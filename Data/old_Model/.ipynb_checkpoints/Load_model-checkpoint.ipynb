{
 "cells": [
  {
   "cell_type": "code",
   "execution_count": 1,
   "id": "e0feb48e-bd53-4497-a5ce-2877372a0ba6",
   "metadata": {},
   "outputs": [],
   "source": [
    "import numpy             as np\n",
    "import matplotlib.pyplot as plt\n",
    "import pandas            as pd\n",
    "import pygimli           as pg\n",
    "import pygimli.meshtools as mt\n",
    "import cmasher           as cmr\n",
    "import pyvista           as pyv\n",
    "from pygimli.viewer             import pv\n",
    "\n",
    "# to convert to correct coordinates\n",
    "[x, y]        = [2549161.271, 5569492.241]"
   ]
  },
  {
   "cell_type": "code",
   "execution_count": 2,
   "id": "ece7044c-c516-4729-aaf9-b31400abf694",
   "metadata": {},
   "outputs": [],
   "source": [
    "# Load files\n",
    "\n",
    "fn_dir = 'C:/Users/azieg/Desktop/GIT_repositories/APG-MSc-Project-Ziegon/Data/old_Model/'\n",
    "\n",
    "nodes = np.loadtxt(fn_dir+'Nodes.txt', comments=\"#\", delimiter=\" \", unpack=False)\n",
    "nodes[:,:2] = -nodes[:,:2]\n",
    "\n",
    "\n",
    "cells = np.loadtxt(fn_dir+'Cells.txt', comments=\"#\", delimiter=\" \", unpack=False, dtype=int)[:,1:]\n",
    "marks = np.loadtxt(fn_dir+'Markers.txt', comments=\"#\", delimiter=\" \", unpack=False, dtype=int)"
   ]
  },
  {
   "cell_type": "code",
   "execution_count": 3,
   "id": "497a0ec4-73f1-4a6d-a432-9edd86a203fe",
   "metadata": {},
   "outputs": [],
   "source": [
    "# def rotate(origin, point, angle):\n",
    "#     \"\"\"\n",
    "#     Rotate a point counterclockwise by a given angle around a given origin.\n",
    "\n",
    "#     The angle should be given in radians.\n",
    "#     \"\"\"\n",
    "#     ox, oy = origin\n",
    "#     px, py = point\n",
    "\n",
    "#     qx = ox + np.cos(angle) * (px - ox) - np.sin(angle) * (py - oy)\n",
    "#     qy = oy + np.sin(angle) * (px - ox) + np.cos(angle) * (py - oy)\n",
    "#     return qx, qy"
   ]
  },
  {
   "cell_type": "code",
   "execution_count": 4,
   "id": "e44f9334-65af-413e-aa3f-825d3ae62df6",
   "metadata": {},
   "outputs": [],
   "source": [
    "mp = [0.5*(np.max(nodes[:,0])-np.min(nodes[:,0])), 0.5*(np.max(nodes[:,1])-np.min(nodes[:,1]))]\n",
    "\n",
    "# nodes_new = nodes.copy()\n",
    "# np.shape(nodes)\n",
    "\n",
    "# for i in range(len(nodes)):\n",
    "#     rx, ry = rotate(mp, nodes[i,:2], np.deg2rad(180))\n",
    "#     nodes_new[i,0] = rx\n",
    "#     nodes_new[i,1] = ry\n",
    "    \n",
    "# # nodes = nodes_new"
   ]
  },
  {
   "cell_type": "code",
   "execution_count": null,
   "id": "dcd4fcc6-aabb-4b89-af27-bdbe602b11bb",
   "metadata": {},
   "outputs": [],
   "source": []
  },
  {
   "cell_type": "code",
   "execution_count": 5,
   "id": "d37a75a7-2a99-43fe-aacc-c922cd3605f7",
   "metadata": {},
   "outputs": [],
   "source": [
    "nodes[:,0] += x\n",
    "nodes[:,1] += y\n",
    "\n",
    "# idices of nodes that are edge nodes and not 'in' diatreme\n",
    "no_idx = np.array([n[0] for n in np.argwhere(nodes[:,0]<(-120+x))] + [n[0] for n in np.argwhere(nodes[:,0]>(-20+x))])\n"
   ]
  },
  {
   "cell_type": "code",
   "execution_count": 6,
   "id": "d227cb0a-493c-4a17-b009-99d5938e7a23",
   "metadata": {},
   "outputs": [
    {
     "name": "stdout",
     "output_type": "stream",
     "text": [
      "Mesh: Nodes: 0 Cells: 0 Boundaries: 0\n",
      "Mesh: Nodes: 1119 Cells: 0 Boundaries: 0\n",
      "Mesh: Nodes: 1119 Cells: 108 Boundaries: 0\n",
      "Mesh: Nodes: 1119 Cells: 108 Boundaries: 196\n"
     ]
    }
   ],
   "source": [
    "dia = pg.Mesh(3)\n",
    "print(dia)\n",
    "\n",
    "# Nodes\n",
    "for n in nodes:\n",
    "    dia.createNode((n[0],n[1],n[2]))\n",
    "print(dia)\n",
    "\n",
    "# Mantle\n",
    "for i in range(len(marks)):\n",
    "    if marks[i]==2:\n",
    "        \n",
    "        n1 = dia.nodes()[cells[i,0]]\n",
    "        n2 = dia.nodes()[cells[i,1]]\n",
    "        n3 = dia.nodes()[cells[i,2]]\n",
    "        if cells[i,0] not in no_idx and cells[i,1] not in no_idx and cells[i,2] not in no_idx:\n",
    "            dia.createTriangle(n1, n2, n3, marker=2)\n",
    "print(dia)\n",
    "\n",
    "# Boundaries\n",
    "dia.createNeighborInfos()\n",
    "print(dia)"
   ]
  },
  {
   "cell_type": "code",
   "execution_count": 7,
   "id": "5fda46b6-a7e0-4fdf-be3c-5c7db78ea93d",
   "metadata": {},
   "outputs": [],
   "source": [
    "# Create Bottom\n",
    "bot_idx =  np.array([n[0] for n in np.argwhere(nodes[:,2]<390)])\n",
    "for i in bot_idx:\n",
    "    n = dia.nodes()[i]\n",
    "    n.setPos([n[0],n[1],408])\n",
    "\n",
    "# bot_list = []\n",
    "\n",
    "# for i in bot_idx:\n",
    "#     bot_list.append(dia.nodes()[i])\n",
    "    \n",
    "# bot_center = dia.createNode([70,60,380])\n",
    "# for i in range (len(bot_list)-1):\n",
    "#     if bot_idx[i] not in no_idx and bot_idx[i+1] not in no_idx:\n",
    "#         n1=bot_list[i]\n",
    "#         n2=bot_list[i+1]\n",
    "#         n3=bot_center\n",
    "#         dia.createTriangle(n1, n2, n3, marker=2)\n",
    "    \n",
    "# print(dia)"
   ]
  },
  {
   "cell_type": "code",
   "execution_count": 8,
   "id": "cf0d470f-5789-44dd-a8c8-29fe14ed132a",
   "metadata": {},
   "outputs": [
    {
     "ename": "NameError",
     "evalue": "name 'mp' is not defined",
     "output_type": "error",
     "traceback": [
      "\u001b[1;31m---------------------------------------------------------------------------\u001b[0m",
      "\u001b[1;31mNameError\u001b[0m                                 Traceback (most recent call last)",
      "Cell \u001b[1;32mIn[8], line 1\u001b[0m\n\u001b[1;32m----> 1\u001b[0m [\u001b[43mmp\u001b[49m[\u001b[38;5;241m0\u001b[39m]\u001b[38;5;241m+\u001b[39mx,mp[\u001b[38;5;241m1\u001b[39m]\u001b[38;5;241m+\u001b[39my,\u001b[38;5;241m450\u001b[39m]\n",
      "\u001b[1;31mNameError\u001b[0m: name 'mp' is not defined"
     ]
    }
   ],
   "source": [
    "[mp[0]+x,mp[1]+y,450]"
   ]
  },
  {
   "cell_type": "code",
   "execution_count": 9,
   "id": "de9ab726-c97a-4b16-869c-6d2578fc7f1f",
   "metadata": {},
   "outputs": [
    {
     "ename": "NameError",
     "evalue": "name 'mp' is not defined",
     "output_type": "error",
     "traceback": [
      "\u001b[1;31m---------------------------------------------------------------------------\u001b[0m",
      "\u001b[1;31mNameError\u001b[0m                                 Traceback (most recent call last)",
      "Cell \u001b[1;32mIn[9], line 4\u001b[0m\n\u001b[0;32m      1\u001b[0m get_ipython()\u001b[38;5;241m.\u001b[39mrun_line_magic(\u001b[38;5;124m'\u001b[39m\u001b[38;5;124mmatplotlib\u001b[39m\u001b[38;5;124m'\u001b[39m, \u001b[38;5;124m'\u001b[39m\u001b[38;5;124mqt\u001b[39m\u001b[38;5;124m'\u001b[39m)\n\u001b[0;32m      2\u001b[0m pl, _ \u001b[38;5;241m=\u001b[39m pg\u001b[38;5;241m.\u001b[39mshow(dia, hold\u001b[38;5;241m=\u001b[39m\u001b[38;5;28;01mTrue\u001b[39;00m, notebook\u001b[38;5;241m=\u001b[39m\u001b[38;5;28;01mFalse\u001b[39;00m, alpha\u001b[38;5;241m=\u001b[39m\u001b[38;5;241m0.5\u001b[39m, cMap\u001b[38;5;241m=\u001b[39mcmr\u001b[38;5;241m.\u001b[39mtropical)\n\u001b[1;32m----> 4\u001b[0m pv\u001b[38;5;241m.\u001b[39mdrawSensors(pl, np\u001b[38;5;241m.\u001b[39marray([[\u001b[43mmp\u001b[49m[\u001b[38;5;241m0\u001b[39m]\u001b[38;5;241m+\u001b[39mx,mp[\u001b[38;5;241m1\u001b[39m]\u001b[38;5;241m+\u001b[39my,\u001b[38;5;241m450\u001b[39m],[\u001b[38;5;241m70\u001b[39m\u001b[38;5;241m+\u001b[39mx,\u001b[38;5;241m60\u001b[39m\u001b[38;5;241m+\u001b[39my,\u001b[38;5;241m380\u001b[39m],[\u001b[38;5;241m90\u001b[39m\u001b[38;5;241m+\u001b[39mx,\u001b[38;5;241m60\u001b[39m\u001b[38;5;241m+\u001b[39my,\u001b[38;5;241m433\u001b[39m]]), diam\u001b[38;5;241m=\u001b[39m\u001b[38;5;241m5\u001b[39m, color\u001b[38;5;241m=\u001b[39m\u001b[38;5;124m'\u001b[39m\u001b[38;5;124mred\u001b[39m\u001b[38;5;124m'\u001b[39m)\n\u001b[0;32m      6\u001b[0m pl\u001b[38;5;241m.\u001b[39mshow()\n",
      "\u001b[1;31mNameError\u001b[0m: name 'mp' is not defined"
     ]
    }
   ],
   "source": [
    "%matplotlib qt\n",
    "pl, _ = pg.show(dia, hold=True, notebook=False, alpha=0.5, cMap=cmr.tropical)\n",
    "\n",
    "pv.drawSensors(pl, np.array([[mp[0]+x,mp[1]+y,450],[70+x,60+y,380],[90+x,60+y,433]]), diam=5, color='red')\n",
    "\n",
    "pl.show()"
   ]
  },
  {
   "cell_type": "markdown",
   "id": "222a0331-a8a4-426a-935c-3a590f2bfc54",
   "metadata": {},
   "source": [
    "## Load 3d mesh"
   ]
  },
  {
   "cell_type": "code",
   "execution_count": 45,
   "id": "862dcd22-c94d-45c3-bf9a-3a34698e2979",
   "metadata": {},
   "outputs": [],
   "source": [
    "fn_dir  = 'C:/Users/azieg/Desktop/GIT_repositories/APG-MSc-Project-Ziegon/Data/Rockeskyll/'\n",
    "mesh = pg.load(fn_dir+'invmesh.bms')\n",
    "\n",
    "res_jme1 = np.load('C:/Users/azieg/Desktop/GIT_repositories/APG-MSc-Project-Ziegon/Data/Rockeskyll/Res_JME1_4/res_jme.npy')\n",
    "sus_jme1 = np.load('C:/Users/azieg/Desktop/GIT_repositories/APG-MSc-Project-Ziegon/Data/Rockeskyll/Res_JME1_4/sus_jme.npy')\n",
    "\n",
    "res_lim= res_jme1.copy()\n",
    "\n",
    "for i, r in enumerate(res_lim):\n",
    "    if r<20:\n",
    "        res_lim[i] = 20\n",
    "    elif r>400:\n",
    "        res_lim[i] = 400\n",
    "\n",
    "mesh['sus'] = sus_jme1\n",
    "mesh['res'] = res_lim"
   ]
  },
  {
   "cell_type": "code",
   "execution_count": 75,
   "id": "27f3213e-3198-47e5-8a7b-2c96231eedce",
   "metadata": {},
   "outputs": [],
   "source": [
    "pl, _ = pg.show(mesh,pg.z(mesh.cellCenters()), cMap='terrain', hold=True, notebook=False, alpha=0.5)\n",
    "pv.drawMesh(pl, dia, cMap=cmr.tropical)\n",
    "pv.drawMesh(pl, mesh, label=\"sus\", style=\"surface\", cMap=cmr.tropical,\n",
    "            filter={\"threshold\": dict(value=0.12, scalars=\"sus\")})\n",
    "pv.drawSensors(pl, np.array([[x,y,440]]), diam=5, color='red')\n",
    "pl.show()"
   ]
  },
  {
   "cell_type": "code",
   "execution_count": null,
   "id": "cb8ed076-fbe8-448a-b1b5-ecf288c16855",
   "metadata": {},
   "outputs": [],
   "source": []
  }
 ],
 "metadata": {
  "kernelspec": {
   "display_name": "Python 3 (ipykernel)",
   "language": "python",
   "name": "python3"
  },
  "language_info": {
   "codemirror_mode": {
    "name": "ipython",
    "version": 3
   },
   "file_extension": ".py",
   "mimetype": "text/x-python",
   "name": "python",
   "nbconvert_exporter": "python",
   "pygments_lexer": "ipython3",
   "version": "3.9.16"
  }
 },
 "nbformat": 4,
 "nbformat_minor": 5
}
