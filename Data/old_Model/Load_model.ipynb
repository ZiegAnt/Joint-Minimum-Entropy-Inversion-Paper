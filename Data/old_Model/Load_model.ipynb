{
 "cells": [
  {
   "cell_type": "code",
   "execution_count": 1,
   "id": "e0feb48e-bd53-4497-a5ce-2877372a0ba6",
   "metadata": {},
   "outputs": [],
   "source": [
    "import numpy             as np\n",
    "import matplotlib.pyplot as plt\n",
    "import pandas            as pd\n",
    "import pygimli           as pg\n",
    "import pygimli.meshtools as mt\n",
    "import cmasher           as cmr\n",
    "import pyvista           as pyv\n",
    "from pygimli.viewer             import pv\n",
    "\n",
    "# to convert to correct coordinates\n",
    "[x, y]        = [2549161.271, 5569492.241]"
   ]
  },
  {
   "cell_type": "code",
   "execution_count": 12,
   "id": "ece7044c-c516-4729-aaf9-b31400abf694",
   "metadata": {},
   "outputs": [],
   "source": [
    "# Load files\n",
    "\n",
    "fn_dir = 'C:/Users/azieg/Desktop/GIT_repositories/APG-MSc-Project-Ziegon/Data/old_Model/'\n",
    "\n",
    "nodes = np.loadtxt(fn_dir+'Nodes.txt', comments=\"#\", delimiter=\" \", unpack=False)\n",
    "nodes[:,:2] = -nodes[:,:2]\n",
    "\n",
    "\n",
    "cells = np.loadtxt(fn_dir+'Cells.txt', comments=\"#\", delimiter=\" \", unpack=False, dtype=int)[:,1:]\n",
    "marks = np.loadtxt(fn_dir+'Markers.txt', comments=\"#\", delimiter=\" \", unpack=False, dtype=int)"
   ]
  },
  {
   "cell_type": "code",
   "execution_count": 13,
   "id": "e44f9334-65af-413e-aa3f-825d3ae62df6",
   "metadata": {},
   "outputs": [],
   "source": [
    "mp = [0.5*(np.max(nodes[:,0])-np.min(nodes[:,0])), 0.5*(np.max(nodes[:,1])-np.min(nodes[:,1]))]"
   ]
  },
  {
   "cell_type": "code",
   "execution_count": 14,
   "id": "497a0ec4-73f1-4a6d-a432-9edd86a203fe",
   "metadata": {},
   "outputs": [],
   "source": [
    "def rotate(origin, point, angle):\n",
    "    \"\"\"\n",
    "    Rotate a point counterclockwise by a given angle around a given origin.\n",
    "\n",
    "    The angle should be given in radians.\n",
    "    \"\"\"\n",
    "    ox, oy = origin\n",
    "    px, py = point\n",
    "\n",
    "    qx = ox + np.cos(angle) * (px - ox) - np.sin(angle) * (py - oy)\n",
    "    qy = oy + np.sin(angle) * (px - ox) + np.cos(angle) * (py - oy)\n",
    "    return qx, qy"
   ]
  },
  {
   "cell_type": "code",
   "execution_count": 15,
   "id": "d37a75a7-2a99-43fe-aacc-c922cd3605f7",
   "metadata": {},
   "outputs": [],
   "source": [
    "nodes[:,0] += x\n",
    "nodes[:,1] += y\n",
    "\n",
    "# idices of nodes that are edge nodes and not 'in' diatreme\n",
    "no_idx = np.array([n[0] for n in np.argwhere(nodes[:,0]<(-120+x))] + [n[0] for n in np.argwhere(nodes[:,0]>(-20+x))])\n",
    "\n",
    "# Rotate accordingly to Topography script\n",
    "pos_new = []\n",
    "for p in nodes:\n",
    "    x_new, y_new = rotate([x,y], [p[0],p[1]], np.deg2rad(11))\n",
    "    pos_new.append([x_new,y_new,p[2]])\n",
    "\n",
    "nodes = np.array(pos_new)"
   ]
  },
  {
   "cell_type": "code",
   "execution_count": 16,
   "id": "d227cb0a-493c-4a17-b009-99d5938e7a23",
   "metadata": {},
   "outputs": [
    {
     "name": "stdout",
     "output_type": "stream",
     "text": [
      "Mesh: Nodes: 0 Cells: 0 Boundaries: 0\n",
      "Mesh: Nodes: 1119 Cells: 0 Boundaries: 0\n",
      "Mesh: Nodes: 1119 Cells: 108 Boundaries: 0\n",
      "Mesh: Nodes: 1119 Cells: 108 Boundaries: 196\n"
     ]
    }
   ],
   "source": [
    "dia = pg.Mesh(3)\n",
    "print(dia)\n",
    "\n",
    "# Nodes\n",
    "for n in nodes:\n",
    "    dia.createNode((n[0],n[1],n[2]))\n",
    "print(dia)\n",
    "\n",
    "# Mantle\n",
    "for i in range(len(marks)):\n",
    "    if marks[i]==2:\n",
    "        \n",
    "        n1 = dia.nodes()[cells[i,0]]\n",
    "        n2 = dia.nodes()[cells[i,1]]\n",
    "        n3 = dia.nodes()[cells[i,2]]\n",
    "        if cells[i,0] not in no_idx and cells[i,1] not in no_idx and cells[i,2] not in no_idx:\n",
    "            dia.createTriangle(n1, n2, n3, marker=2)\n",
    "print(dia)\n",
    "\n",
    "# Boundaries\n",
    "dia.createNeighborInfos()\n",
    "print(dia)"
   ]
  },
  {
   "cell_type": "code",
   "execution_count": 17,
   "id": "de9ab726-c97a-4b16-869c-6d2578fc7f1f",
   "metadata": {},
   "outputs": [],
   "source": [
    "%matplotlib qt\n",
    "pl, _ = pg.show(dia, hold=True, notebook=False, alpha=0.5, cMap=cmr.tropical)\n",
    "\n",
    "pv.drawSensors(pl, np.array([[mp[0]+x,mp[1]+y,450],[70+x,60+y,380],[90+x,60+y,433]]), diam=5, color='red')\n",
    "\n",
    "pl.show()"
   ]
  },
  {
   "cell_type": "markdown",
   "id": "222a0331-a8a4-426a-935c-3a590f2bfc54",
   "metadata": {},
   "source": [
    "## Load 3d mesh"
   ]
  },
  {
   "cell_type": "code",
   "execution_count": 18,
   "id": "862dcd22-c94d-45c3-bf9a-3a34698e2979",
   "metadata": {},
   "outputs": [],
   "source": [
    "fn_dir  = 'C:/Users/azieg/Desktop/GIT_repositories/APG-MSc-Project-Ziegon/Data/Rockeskyll/'\n",
    "mesh = pg.load(fn_dir+'invmesh.bms')\n",
    "\n",
    "res_jme1 = np.load('C:/Users/azieg/Desktop/GIT_repositories/APG-MSc-Project-Ziegon/Data/Rockeskyll/Res_JME1_4/res_jme.npy')\n",
    "sus_jme1 = np.load('C:/Users/azieg/Desktop/GIT_repositories/APG-MSc-Project-Ziegon/Data/Rockeskyll/Res_JME1_4/sus_jme.npy')\n",
    "\n",
    "res_lim= res_jme1.copy()\n",
    "\n",
    "for i, r in enumerate(res_lim):\n",
    "    if r<20:\n",
    "        res_lim[i] = 20\n",
    "    elif r>400:\n",
    "        res_lim[i] = 400\n",
    "\n",
    "mesh['sus'] = sus_jme1\n",
    "mesh['res'] = res_lim"
   ]
  },
  {
   "cell_type": "code",
   "execution_count": 21,
   "id": "27f3213e-3198-47e5-8a7b-2c96231eedce",
   "metadata": {},
   "outputs": [],
   "source": [
    "pl, _ = pg.show(mesh,pg.z(mesh.cellCenters()), cMap='terrain', hold=True, notebook=False, alpha=0.5)\n",
    "pv.drawMesh(pl, dia, cMap=cmr.tropical)\n",
    "pv.drawMesh(pl, mesh, label=\"sus\", style=\"surface\", cMap=cmr.tropical,\n",
    "            filter={\"threshold\": dict(value=0.11, scalars=\"sus\")})\n",
    "pv.drawSensors(pl, np.array([[x,y,440]]), diam=5, color='red')\n",
    "pl.show()"
   ]
  },
  {
   "cell_type": "code",
   "execution_count": 22,
   "id": "cb8ed076-fbe8-448a-b1b5-ecf288c16855",
   "metadata": {},
   "outputs": [],
   "source": [
    "dia.exportVTK('Diatreme_Model')"
   ]
  },
  {
   "cell_type": "code",
   "execution_count": null,
   "id": "a585055e-0a5b-409d-904e-b64cd3d77a98",
   "metadata": {},
   "outputs": [],
   "source": []
  }
 ],
 "metadata": {
  "kernelspec": {
   "display_name": "Python 3 (ipykernel)",
   "language": "python",
   "name": "python3"
  },
  "language_info": {
   "codemirror_mode": {
    "name": "ipython",
    "version": 3
   },
   "file_extension": ".py",
   "mimetype": "text/x-python",
   "name": "python",
   "nbconvert_exporter": "python",
   "pygments_lexer": "ipython3",
   "version": "3.9.16"
  }
 },
 "nbformat": 4,
 "nbformat_minor": 5
}
