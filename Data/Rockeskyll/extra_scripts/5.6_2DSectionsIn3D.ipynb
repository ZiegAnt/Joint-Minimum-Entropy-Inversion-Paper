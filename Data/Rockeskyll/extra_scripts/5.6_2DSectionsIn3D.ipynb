{
 "cells": [
  {
   "cell_type": "code",
   "execution_count": 1,
   "id": "63b2bae6-9119-49cb-a16e-4a9a23745ff9",
   "metadata": {},
   "outputs": [],
   "source": [
    "# %% IMPORTS\n",
    "import numpy             as np\n",
    "import matplotlib.pyplot as plt\n",
    "import pandas            as pd\n",
    "import pygimli           as pg\n",
    "import pygimli.meshtools as mt\n",
    "import cmasher           as cmr\n",
    "import pyvista           as pyv\n",
    "import functools\n",
    "import sys\n",
    "\n",
    "from mpl_toolkits               import mplot3d\n",
    "from mpl_toolkits.mplot3d       import Axes3D\n",
    "from pygimli.viewer             import pv\n",
    "from PlotFunctions_Ch5          import *"
   ]
  },
  {
   "cell_type": "code",
   "execution_count": 2,
   "id": "0743928d-3c39-4b2b-aa2f-61225812ae0e",
   "metadata": {},
   "outputs": [],
   "source": [
    "# %% Filenames\n",
    "fig_dir = 'C:/Users/azieg/Desktop/GIT_repositories/APG-MSc-Project-Ziegon/Figures/Ch-5/'\n",
    "fn_dir  = 'C:/Users/azieg/Desktop/GIT_repositories/APG-MSc-Project-Ziegon/Data/Rockeskyll/'\n",
    "\n",
    "fn_magnetic = 'Magnetic_data_corrected.csv'\n",
    "\n",
    "fn_all = 'ert_data_rockes_all'\n",
    "geo1 ='Geo/2023_ERTL1_Locations.csv'\n",
    "geo2 ='Geo/2023_ERTL2_Locations.csv'\n",
    "geo3 ='Geo/2023_ERTL3_Locations.csv'\n",
    "geo4 ='Geo/2023_ERTL4_Locations.csv'\n",
    "\n",
    "# Results Conventional\n",
    "fn_res2d1 = 'Res_Conventional/res_2d1.npy'\n",
    "fn_res2d2 = 'Res_Conventional/res_2d2.npy'\n",
    "fn_res2d3 = 'Res_Conventional/res_2d3.npy'\n",
    "fn_res2d4 = 'Res_Conventional/res_2d4.npy'\n",
    "fn_res_con = 'Res_Conventional/res_con.npy'\n",
    "fn_sus_con = 'Res_Conventional/sus_con.npy'\n",
    "fn_misfit_2d = 'Res_Conventional/misfit_2d.npy'\n",
    "fn_misfit_mag_con = 'Res_Conventional/misfit_mag_con.npy'\n",
    "fn_misfit_ert_con = 'Res_Conventional/misfit_ert_con.npy'\n",
    "\n",
    "# Results ME1\n",
    "fn_sus_me1 = 'Res_ME1/sus_me.npy'\n",
    "fn_res_me1 = 'Res_ME1/res_me.npy'\n",
    "fn_misfit_mag_me1 = 'Res_ME1/misfit_mag_me.npy'\n",
    "fn_misfit_ert_me1 = 'Res_ME1/misfit_ert_me.npy'\n",
    "\n",
    "# Results ME2\n",
    "fn_sus_me2 = 'Res_ME2/sus_me.npy'\n",
    "fn_res_me2 = 'Res_ME2/res_me.npy'\n",
    "fn_misfit_mag_me2 = 'Res_ME2/misfit_mag_me.npy'\n",
    "fn_misfit_ert_me2 = 'Res_ME2/misfit_ert_me.npy'\n",
    "\n",
    "# Results JME1\n",
    "JME1 = 'JME1_1'\n",
    "fn_sus_jme1 = 'Res_'+JME1+'/sus_jme.npy'\n",
    "fn_res_jme1 = 'Res_'+JME1+'/res_jme.npy'\n",
    "fn_misfit_mag_jme1 = 'Res_'+JME1+'/misfit_mag_jme.npy'\n",
    "fn_misfit_ert_jme1 = 'Res_'+JME1+'/misfit_ert_jme.npy'\n",
    "\n",
    "# Results JME2\n",
    "JME1 = 'JME2_1'\n",
    "fn_sus_jme2 = 'Res_'+JME1+'/sus_jme.npy'\n",
    "fn_res_jme2 = 'Res_'+JME1+'/res_jme.npy'\n",
    "fn_misfit_mag_jme2 = 'Res_'+JME1+'/misfit_mag_jme.npy'\n",
    "fn_misfit_ert_jme2 = 'Res_'+JME1+'/misfit_ert_jme.npy'\n",
    "\n",
    "# Plotting\n",
    "c_ert = 'gnuplot'\n",
    "c_mag = cmr.tropical\n",
    "\n",
    "lim_ert = [20,200]\n",
    "lim_mag =[0,0.15]"
   ]
  },
  {
   "cell_type": "markdown",
   "id": "83229eac-06ef-4bbe-aaec-dec3ad0191c5",
   "metadata": {},
   "source": [
    "## Load Geometries and Meshes"
   ]
  },
  {
   "cell_type": "code",
   "execution_count": 3,
   "id": "953c072b-d39f-4789-aef0-f38e33786f19",
   "metadata": {},
   "outputs": [],
   "source": [
    "df = pd.read_csv(fn_dir+fn_magnetic, delimiter=',', decimal='.')\n",
    "pnts = np.array([[df['X'][i], df['Y'][i], df['Z'][i]] for i in range(len(df))])\n",
    "\n",
    "df1 = pd.read_csv(fn_dir+geo1, delimiter=',', decimal='.')\n",
    "p1 = np.array([[df1['X'][i], df1['Y'][i], df1['Z'][i]] for i in range(len(df1))])\n",
    "\n",
    "df2 = pd.read_csv(fn_dir+geo2, delimiter=',', decimal='.')\n",
    "p2 = np.array([[df2['X'][i], df2['Y'][i], df2['Z'][i]] for i in range(len(df2))])\n",
    "\n",
    "df3 = pd.read_csv(fn_dir+geo3, delimiter=',', decimal='.')\n",
    "p3 = np.array([[df3['X'][i], df3['Y'][i], df3['Z'][i]] for i in range(len(df3))])\n",
    "p3 = p3[:-1,:] # This array has one electrode too much :(\n",
    "\n",
    "df4 = pd.read_csv(fn_dir+geo4, delimiter=',', decimal='.')\n",
    "p4 = np.array([[df4['X'][i], df4['Y'][i], df4['Z'][i]] for i in range(len(df4))])\n",
    "\n",
    "mesh = pg.load(fn_dir+'invmesh.bms')\n",
    "m2d1 = pg.load(fn_dir+'mesh_2d1.bms')\n",
    "m2d2 = pg.load(fn_dir+'mesh_2d2.bms')\n",
    "m2d3 = pg.load(fn_dir+'mesh_2d3.bms')\n",
    "m2d4 = pg.load(fn_dir+'mesh_2d4.bms')\n",
    "\n",
    "#Coverage \n",
    "cov1 = np.load(fn_dir+'Res_Conventional/cov1.npy')\n",
    "cov2 = np.load(fn_dir+'Res_Conventional/cov2.npy')\n",
    "cov3 = np.load(fn_dir+'Res_Conventional/cov3.npy')\n",
    "cov4 = np.load(fn_dir+'Res_Conventional/cov4.npy')"
   ]
  },
  {
   "cell_type": "markdown",
   "id": "040552cb-2dfd-4666-845c-de515d5c172c",
   "metadata": {},
   "source": [
    "## Load Results"
   ]
  },
  {
   "cell_type": "code",
   "execution_count": 4,
   "id": "4044c178-3690-4a86-be1b-8d1b0b6d0796",
   "metadata": {},
   "outputs": [],
   "source": [
    "res2d1 = np.load(fn_dir+fn_res2d1)\n",
    "res2d2 = np.load(fn_dir+fn_res2d2)\n",
    "res2d3 = np.load(fn_dir+fn_res2d3)\n",
    "res2d4 = np.load(fn_dir+fn_res2d4)\n",
    "\n",
    "res_con = np.load(fn_dir+fn_res_con)\n",
    "sus_con = np.load(fn_dir+fn_sus_con)\n",
    "\n",
    "res_me1 = np.load(fn_dir+fn_res_me1)\n",
    "sus_me1 = np.load(fn_dir+fn_sus_me1)\n",
    "\n",
    "res_me2 = np.load(fn_dir+fn_res_me2)\n",
    "sus_me2 = np.load(fn_dir+fn_sus_me2)\n",
    "\n",
    "res_jme1 = np.load(fn_dir+fn_res_jme1)\n",
    "sus_jme1 = np.load(fn_dir+fn_sus_jme1)\n",
    "\n",
    "res_jme2 = np.load(fn_dir+fn_res_jme2)\n",
    "sus_jme2 = np.load(fn_dir+fn_sus_jme2)"
   ]
  },
  {
   "cell_type": "markdown",
   "id": "9e842f87-84d9-4004-aea2-546a2fbaf627",
   "metadata": {},
   "source": [
    "## Load Misfit"
   ]
  },
  {
   "cell_type": "code",
   "execution_count": 5,
   "id": "2e4cbc11-3890-45ec-b3fa-3e93d6f5277d",
   "metadata": {},
   "outputs": [],
   "source": [
    "misfit_2d      = np.load(fn_dir+fn_misfit_2d)\n",
    "misfit_mag_con = np.load(fn_dir+fn_misfit_mag_con)\n",
    "misfit_ert_con = np.load(fn_dir+fn_misfit_ert_con)\n",
    "\n",
    "misfit_mag_me1 = np.load(fn_dir+fn_misfit_mag_me1)\n",
    "misfit_ert_me1 = np.load(fn_dir+fn_misfit_ert_me1)\n",
    "\n",
    "misfit_mag_me2 = np.load(fn_dir+fn_misfit_mag_me2)\n",
    "misfit_ert_me2 = np.load(fn_dir+fn_misfit_ert_me2)\n",
    "\n",
    "misfit_mag_jme1 = np.load(fn_dir+fn_misfit_mag_jme1)\n",
    "misfit_ert_jme1 = np.load(fn_dir+fn_misfit_ert_jme1)\n",
    "\n",
    "misfit_mag_jme2 = np.load(fn_dir+fn_misfit_mag_jme2)\n",
    "misfit_ert_jme2 = np.load(fn_dir+fn_misfit_ert_jme2)"
   ]
  },
  {
   "cell_type": "markdown",
   "id": "f2272523-043a-4bac-b7ff-be676c366e2e",
   "metadata": {},
   "source": [
    "## Interpolate 2D Sections"
   ]
  },
  {
   "cell_type": "markdown",
   "id": "3e9da2f7-a381-4fde-ae17-78f04acd057a",
   "metadata": {
    "tags": []
   },
   "source": [
    "### Create interpolation indices for nearest neighbour method"
   ]
  },
  {
   "cell_type": "code",
   "execution_count": 6,
   "id": "ebff5810-e6ce-4fff-8dfd-39a1ae6fe567",
   "metadata": {},
   "outputs": [],
   "source": [
    "p_list = [p1,p2,p3,p4]\n",
    "m_list = [m2d1,m2d2,m2d3,m2d4]\n",
    "\n",
    "\n",
    "[m3d1,m3d2,m3d3,m3d4] =  Move2DSectionTo3D(m_list, p_list)"
   ]
  },
  {
   "cell_type": "code",
   "execution_count": 7,
   "id": "012e9ccb-f741-4e36-8794-e7da2241725a",
   "metadata": {},
   "outputs": [],
   "source": [
    "idx1 = np.load(fn_dir+'int_ind1.npy')\n",
    "idx2 = np.load(fn_dir+'int_ind2.npy')\n",
    "idx3 = np.load(fn_dir+'int_ind3.npy')\n",
    "idx4 = np.load(fn_dir+'int_ind4.npy')\n",
    "idx_all_list = [idx1,idx2,idx3,idx4]\n",
    "\n",
    "def Transfer3DdataTo2DSection(data, int_idx_all, x=1):\n",
    "    data_intnn = []\n",
    "    for int_idx in int_idx_all:\n",
    "        d_int = []\n",
    "        for i in int_idx:\n",
    "            if np.isnan(i):\n",
    "                d_int.append(x)\n",
    "            else:\n",
    "                d_int.append(data[int(i)])\n",
    "        data_intnn.append(np.array(d_int))\n",
    "    return data_intnn\n",
    "\n",
    "p_list = [p1,p2,p3,p4]\n",
    "m_list = [m2d1,m2d2,m2d3,m2d4]\n",
    "\n",
    "# With nearest neighbour interpolation\n",
    "res_con_int_nn = Transfer3DdataTo2DSection(res_con, idx_all_list, x=30)\n",
    "res_me1_int_nn = Transfer3DdataTo2DSection(res_me1, idx_all_list, x=30)\n",
    "res_me2_int_nn = Transfer3DdataTo2DSection(res_me2, idx_all_list, x=30)\n",
    "res_jme1_int_nn = Transfer3DdataTo2DSection(res_jme1, idx_all_list, x=30)\n",
    "res_jme2_int_nn = Transfer3DdataTo2DSection(res_jme2, idx_all_list, x=30)\n",
    "\n",
    "sus_con_int_nn = Transfer3DdataTo2DSection(sus_con, idx_all_list, x=0.01)\n",
    "sus_me1_int_nn = Transfer3DdataTo2DSection(sus_me1, idx_all_list, x=0.01)\n",
    "sus_me2_int_nn = Transfer3DdataTo2DSection(sus_me2, idx_all_list, x=0.01)\n",
    "sus_jme1_int_nn = Transfer3DdataTo2DSection(sus_jme1, idx_all_list, x=0.01)\n",
    "sus_jme2_int_nn = Transfer3DdataTo2DSection(sus_jme2, idx_all_list, x=0.01)"
   ]
  },
  {
   "cell_type": "code",
   "execution_count": 9,
   "id": "3a3ccb4e-932d-4ed9-a411-8a5beb5398e9",
   "metadata": {
    "tags": []
   },
   "outputs": [],
   "source": [
    "res_2d = [res2d1, res2d2, res2d3, res2d4]\n",
    "res_2d = [res2d1, res2d2, res2d3, res2d4]\n",
    "m3d = [m3d1,m3d2,m3d3,m3d4]\n",
    "\n",
    "# for i in [0,1,2,3]:\n",
    "#     m3d[i]['res2D']=res_2d[i]\n",
    "#     m3d[i]['res3D']=res_con_int_nn[i]\n",
    "#     m3d[i]['sus3D']=sus_con_int_nn[i]\n",
    "#     m3d[i].exportVTK(f'C:/Users/azieg/Desktop/GIT_repositories/APG-MSc-Project-Ziegon/Data/Rockeskyll/2DERT_Sections/Rockeskyll2DSection{i}.vtk')"
   ]
  },
  {
   "cell_type": "code",
   "execution_count": 10,
   "id": "7f51aeb5-20c8-430e-a48c-484c395e70ed",
   "metadata": {},
   "outputs": [],
   "source": [
    "# mesh['res'] = res_con\n",
    "# mesh['sus'] = sus_con\n",
    "# mesh.exportVTK('Mesh.vtk')"
   ]
  },
  {
   "cell_type": "markdown",
   "id": "3f50e6a5-3ca5-461f-af3c-d270b56f598b",
   "metadata": {},
   "source": [
    "## 3D Plot"
   ]
  },
  {
   "cell_type": "code",
   "execution_count": 11,
   "id": "5446f12a-6d4c-4feb-9bd0-04a61c7dea93",
   "metadata": {},
   "outputs": [],
   "source": [
    "%matplotlib widget\n",
    "res = res_jme1\n",
    "sus = sus_jme1\n",
    "\n",
    "mesh['sus'] = sus\n",
    "mesh['res'] = res\n",
    "\n",
    "res_lim= res.copy()\n",
    "\n",
    "for i, r in enumerate(res_lim):\n",
    "    if r<10:\n",
    "        res_lim[i] = 10\n",
    "    elif r>500:\n",
    "        res_lim[i] = 500\n",
    "\n",
    "mesh['res_lim'] = res_lim"
   ]
  },
  {
   "cell_type": "code",
   "execution_count": 17,
   "id": "992aae5e-c404-45ea-940f-84dbe72a7c06",
   "metadata": {},
   "outputs": [
    {
     "name": "stdout",
     "output_type": "stream",
     "text": [
      "Mesh: Nodes: 1119 Cells: 0 Boundaries: 196\n",
      "Mesh: Nodes: 1119 Cells: 0 Boundaries: 196\n"
     ]
    }
   ],
   "source": [
    "dia = pg.load('C:/Users/azieg/Desktop/GIT_repositories/APG-MSc-Project-Ziegon/Data/old_Model/diatrem.bms')\n",
    "print(dia)\n",
    "dia.createNeighborInfos()\n",
    "print(dia)"
   ]
  },
  {
   "cell_type": "code",
   "execution_count": 16,
   "id": "85d0373b-c4f6-4163-8174-5deb2a9db75f",
   "metadata": {},
   "outputs": [
    {
     "data": {},
     "metadata": {},
     "output_type": "display_data"
    },
    {
     "data": {
      "application/vnd.holoviews_exec.v0+json": "",
      "text/html": [
       "<div id='1010'>\n",
       "  <div class=\"bk-root\" id=\"1ec1d24e-aadb-4378-807b-02aae1551c0d\" data-root-id=\"1010\"></div>\n",
       "</div>\n",
       "<script type=\"application/javascript\">(function(root) {\n",
       "  function embed_document(root) {\n",
       "    var docs_json = {\"f9120d8e-c730-4acc-9258-0e717f69d015\":{\"defs\":[{\"extends\":null,\"module\":null,\"name\":\"ReactiveHTML1\",\"overrides\":[],\"properties\":[]},{\"extends\":null,\"module\":null,\"name\":\"FlexBox1\",\"overrides\":[],\"properties\":[{\"default\":\"flex-start\",\"kind\":null,\"name\":\"align_content\"},{\"default\":\"flex-start\",\"kind\":null,\"name\":\"align_items\"},{\"default\":\"row\",\"kind\":null,\"name\":\"flex_direction\"},{\"default\":\"wrap\",\"kind\":null,\"name\":\"flex_wrap\"},{\"default\":\"flex-start\",\"kind\":null,\"name\":\"justify_content\"}]},{\"extends\":null,\"module\":null,\"name\":\"GridStack1\",\"overrides\":[],\"properties\":[{\"default\":\"warn\",\"kind\":null,\"name\":\"mode\"},{\"default\":null,\"kind\":null,\"name\":\"ncols\"},{\"default\":null,\"kind\":null,\"name\":\"nrows\"},{\"default\":true,\"kind\":null,\"name\":\"allow_resize\"},{\"default\":true,\"kind\":null,\"name\":\"allow_drag\"},{\"default\":[],\"kind\":null,\"name\":\"state\"}]},{\"extends\":null,\"module\":null,\"name\":\"click1\",\"overrides\":[],\"properties\":[{\"default\":\"\",\"kind\":null,\"name\":\"terminal_output\"},{\"default\":\"\",\"kind\":null,\"name\":\"debug_name\"},{\"default\":0,\"kind\":null,\"name\":\"clears\"}]},{\"extends\":null,\"module\":null,\"name\":\"NotificationAreaBase1\",\"overrides\":[],\"properties\":[{\"default\":\"bottom-right\",\"kind\":null,\"name\":\"position\"},{\"default\":0,\"kind\":null,\"name\":\"_clear\"}]},{\"extends\":null,\"module\":null,\"name\":\"NotificationArea1\",\"overrides\":[],\"properties\":[{\"default\":[],\"kind\":null,\"name\":\"notifications\"},{\"default\":\"bottom-right\",\"kind\":null,\"name\":\"position\"},{\"default\":0,\"kind\":null,\"name\":\"_clear\"},{\"default\":[{\"background\":\"#ffc107\",\"icon\":{\"className\":\"fas fa-exclamation-triangle\",\"color\":\"white\",\"tagName\":\"i\"},\"type\":\"warning\"},{\"background\":\"#007bff\",\"icon\":{\"className\":\"fas fa-info-circle\",\"color\":\"white\",\"tagName\":\"i\"},\"type\":\"info\"}],\"kind\":null,\"name\":\"types\"}]},{\"extends\":null,\"module\":null,\"name\":\"Notification\",\"overrides\":[],\"properties\":[{\"default\":null,\"kind\":null,\"name\":\"background\"},{\"default\":3000,\"kind\":null,\"name\":\"duration\"},{\"default\":null,\"kind\":null,\"name\":\"icon\"},{\"default\":\"\",\"kind\":null,\"name\":\"message\"},{\"default\":null,\"kind\":null,\"name\":\"notification_type\"},{\"default\":false,\"kind\":null,\"name\":\"_destroyed\"}]},{\"extends\":null,\"module\":null,\"name\":\"TemplateActions1\",\"overrides\":[],\"properties\":[{\"default\":0,\"kind\":null,\"name\":\"open_modal\"},{\"default\":0,\"kind\":null,\"name\":\"close_modal\"}]},{\"extends\":null,\"module\":null,\"name\":\"MaterialTemplateActions1\",\"overrides\":[],\"properties\":[{\"default\":0,\"kind\":null,\"name\":\"open_modal\"},{\"default\":0,\"kind\":null,\"name\":\"close_modal\"}]}],\"roots\":{\"references\":[{\"attributes\":{\"digits\":3,\"fontsize\":50,\"grid_opacity\":0.5,\"origin\":[31.8263846154,16.8923064615,380.0],\"xticker\":{\"ticks\":[31.8263846154,50.409596153799995,68.9928076922,87.5760192306,106.159230769]},\"yticker\":{\"ticks\":[16.8923064615,36.892307076899996,56.8923076923,76.8923083077,96.8923089231]},\"zticker\":{\"ticks\":[380.0,393.98275,407.9655,421.94825,435.931]}},\"id\":\"1009\",\"type\":\"panel.models.vtk.VTKAxes\"},{\"attributes\":{\"client_comm_id\":\"1cd7a4c1c38b44ab942a3befda3a42ee\",\"comm_id\":\"95cd32b857f84813bed5ebe0d2dc62d9\",\"plot_id\":\"1010\"},\"id\":\"1011\",\"type\":\"panel.models.comm_manager.CommManager\"},{\"attributes\":{\"reload\":false},\"id\":\"1012\",\"type\":\"panel.models.location.Location\"},{\"attributes\":{\"arrays\":{\"2ebda7d3c6c3627ba233a85b7027cd58\":\"UEsDBBQAAAAIAIKD3laBkDoDkwEAAAAEAAAlAAAAZGF0YS8yZWJkYTdkM2M2YzM2MjdiYTIzM2E4NWI3MDI3Y2Q1OHXTb0SdYRgH4E5/VllpSibJJBlJTERGJEZEjIgYETEiYmxEjIjYh4gYETEiYiJiIjISmUgmySRNaqo5Z53O2TXd077M6/r2vs9z37+fN5uTk83+lSCXPAoopJgSyiinkipqqKWeBppoppU2Ouikmx766GeQIUZ4wxjjTDLFDLPMs8ASy6yyxgabbLPDHvsccsQJp5xzwRVJUlyT5obMrUz2zg1pfpHkJ5f84IzvHPONA76yyxe2+Mw6n1jhI4t8YI73TPOOCd4yyiuGeckAL+jlOV08o52ntPCERh5TxyOqeUgFDyjlPkXcI588Evz/ScRb+fFVUZxSGqdWxC3VcWtdTNEYU7XElO0xdVds0RtbDcSWw7H1aKQwEalMR0pzkdpipLgSqa5HyluR+m60cBCtHEdLZ9HaZbSYilbT0fI/rWeyt25Ic02KJFdccM4pJxxxyD577LDNJhusscoySywwzywzTDHJOGO8ZoQhBumnjx666aSDNlpppokG6qmlhioqKaeMEooppIA8cknc/e5//AZQSwECFAAUAAAACACCg95WgZA6A5MBAAAABAAAJQAAAAAAAAAAAAAAgAEAAAAAZGF0YS8yZWJkYTdkM2M2YzM2MjdiYTIzM2E4NWI3MDI3Y2Q1OFBLBQYAAAAAAQABAFMAAADWAQAAAAA=\",\"56ddc7efc29d7dfb0d59d10321298727\":\"UEsDBBQAAAAIAIKD3lYTmsT7CgAAABADAAAlAAAAZGF0YS81NmRkYzdlZmMyOWQ3ZGZiMGQ1OWQxMDMyMTI5ODcyN2NgGAWjYBTAAABQSwECFAAUAAAACACCg95WE5rE+woAAAAQAwAAJQAAAAAAAAAAAAAAgAEAAAAAZGF0YS81NmRkYzdlZmMyOWQ3ZGZiMGQ1OWQxMDMyMTI5ODcyN1BLBQYAAAAAAQABAFMAAABNAAAAAAA=\",\"a9d067660b8feb26a0ca39dbdd7ddd45\":\"UEsDBBQAAAAIAIKD3lbUi1zf7k4AAOhoAAAlAAAAZGF0YS9hOWQwNjc2NjBiOGZlYjI2YTBjYTM5ZGJkZDdkZGQ0NXxcdzxV//83KloaCEm2jKSskPG0N/de89oyigolinNJQtHUtIrSIJWGaJDRJiopaWooSUVZRfq9Mz7fNH7+OY+eve/zvM/7vF7P1/P1PufegrqiBnkvC/CobjfvfKWB3YYbl76VoxD3ocVMkssOFw8muQa9ngv/n39aFM57rkv/iTfL6Cr/ikuZCz4QKnDCyeovfF/2q2B+or5Xky6FXWyxoj37nZGvrtfGqaeB6lvkT5vCpNLRdsx5poiO1c3LvayLUY48iqfFKehPSV+ck26Gr7tbPydd0ofHBfMJHCIUnLaXTerjZsI5XbRnragO2H7+aVDIqG3kiqYxwaziim7k0ofKwB8FIzn2c22yVtjd/KP5xQNDWP2ckDCFV6eePM9Ts4V39Kg4ix/GSP7A0lObTg3ypTAHjzGGg9c1h8L6aQ013bz0wXkomA0eBSj4KpJ5PGfiiCqZTo8x0lLJH1k3ZteMDVlhdjC/2fN0zwwLjFm7y3DjNAq5y8j1z3KBvTJZhhCzwXWQotAoOH+FpKk93imvkJy/wgr12SE643gpTEz3aI4PckGvf3O8R7PF4LzEhnhWDfNYD14vua6DXU/3ZCTYoXM39yPn2bZY9rY3t33C0DzXuAzN03bwush8TvdEKtyaq49CAzOdLxoM9Ni9OpTeFolH+buWX68xAMehNxt4fe0G8dbIwfNvcBk8gj54vVModG6VnWN3xwjJoSLV3zbYo+mOxOOvzZGoccKDuUkuCGic33Q+jjF4vWQ+zGeyxsvNzdCw5vj7xbsdoPBzgZsi8cV3v0BkhAtib40vuVNlN3gebgqqsz4L5Dy1he69mGjphY64S+ijWyKxNoMsl6QL5qQJn08WdhhcB04KS2cybms/oONAKb+/RqATboZfypz+LhJ35szgH9fsDNNQt5L+9Y6D8dYbORjP6x1wIXHrJmFN58Hr+hA5GP8EV8p9uftXfOA6dvoOrqO/ftnAPMtW4TmboVKHBMr4fMl985AqG46f38cPHLZQf4wf5rnEnuDRfEivTESs5M74Er5/4sPxNsCf4zt4vKXz3/jf8YHxidQgz2i9si5Dst77r5eO4P8FH47PgWPxMI/GSP5f8IFj3BC/n27Zq+cGSh0GvBjB/zsuNsR/Z5hHZST/73jMEP9VnbL24J/zlBzJ/ws+nBcDn3/tO3j/UhVH8v+CD8rGEL+0Tllr+k8exZH8v+DDeTTA0zPMIzmS/xd8YHz4EH+8dllXNbmNd1RG8v+CD+fXYN74Deka70j+X/CB8cuH+JsWDPFojOT/BR/Ox4GjmN/QPG/qjeD/BR/499I/68IIfuNhfp3/8vev+DC/qt/Q/eX7//HFf9adkXmhVTagk4v1/4kP60PBb/VuxHnN/IbyVOo//Pe69q/xA/w+w/k1dN5mw5Hz+QUf+Fh/5B91cAS/2zD/nP/w3+vpv8YPHDyG81FzaB1MfsvH/+ED9/lrJJZMzTySkmkKmvKE9xOe6Y/kDxmON9X/8L/W5b+MH+BnDuevxtA6mP2Wv//DBz7fEYlxykQuJpnCoD+CJJ7RSP64YX7N//Df/cC/xg/8234434fOu9jyt3z/DSf1caB+3TTG6R8u9Xdnm47kTxnm/999HDj+4iv+3/G0YX2YP7QO1iPn8ws+8LH3kYP1t80AEm+10jqnWIzkPzacv/9bh999y7/GD/BbDuuJelm0SoeBkipt5Hx+wQfi7c2Qf9iij9EW1VNm3bAayV82xC/0v/v4uy/61/gBfpNhPRk670r6yPn8gg987kXkoM/ZBiyL3xb5ZrntSP664ev9X1781Xf9ZfzAUX9oPofUBs9bwBg5n1/wgc8/icSaSfPaN9/Tg090+DYfbvrIdfjF1404b/PwOpj/Ex/21YM6M3TeDruR8/kdfxj5hw8cESe/+MYR5+0bXgfL/x/XGNYf1aE4cRg5n1/wgXi796f/HJFHv/jPEeed7D+0Djb/xIf7gkGdURmKE8eR8/kFH4i3msg//O3w+N/97YjzSvkPHq1o/8SH/eGgzgydl9SZEfP5BR+4jpuRf/jn4fF/9c/D59UYOu8m+j/xYT85qDPKQ3HiPHI+v+ADn7sS+Yc/Hx7/uz8fcV6rofPeYvwTH/afgzozryzp6hcSJy4j5/MHHvmH/x8e/7v/H3Fer6HzTrD//3Ex6o++YMR8jIfms9J1MN4uRv6Bj+BfORwPDv/Eh33s733KiPMemjvIX+D2T3wg3gqH+pcNw/f9t3X4BR/2t4O6McTT4T6S/xd8IH5ODfFnDN9Hp5H8v+DD/pbFOYHE65yh++j53/jf8cH6NMR/cvi+MEfy/4IP+9sBno2KZVdfEv+g5TWS/3c8Z4j/yvD6u4zk/x3nHuK3nD3I8+g3/l/wgfuYPcT/cHidf4uHX/BhvzrAM15hkCfSeyT/L/jA/do3xN86vM5uI/l/wYf95+A6yw3yTF/42/r/Dx/U9SF+tkVD6+sxkv8XfNhPDq6z7CDPhd/4f8EH++Qhfr4hHivPkfy/4MP+cHCdZw3yuPj8tv6/4duG+GUXDfkJr5H8v+NtQ/zjZQZ5vv3G/ws+cL82DvFrD/G8+Y3/F3zYvw2us9QgT5rvb+v/P3zgcwlD/LQhngTvkfy/4MN+bG09qQcbJYfi3O+/8b/jA/dr7RC/7xCPzMKR/L/gw/5qgMdSYijOf+P/BR/4PGuIf/UQz7Xf+H/Bh/3SAM948aE49x/J/zu+eoh/0xCPv89I/t9x4n848kk7v0d0KM4X/Tf+d3zgfoUO8WcN8YzxHcn/Cz7sZwbwgiH88G/jf8GH/cbAeQVEhvJi6P+D/sSHef7ar3lF/L1vmhuBPQpj1e/OtYBVs25DE/8QHhLx975GIwLxo3JzfDTNUVvZknTvkgk2Ln3bm2sXgVhRDmqMshV2ZGXOLfU0gaB0s5LqtghkeHx9FCFig8rmrCs0CRM4mvuK+nL+o0+hRWD/FamAsd6WGMd6XPuM0xyu3CtoFfER6BHQ95Gh24D96R6Vx4dIX/D90hqVgghsry/zsdhBg3vxpEWKlkP9Ats/+o6sCLS87lv53tIWBoFeybGTh/1qBM45vTl+IZyOqYEJ9vQMC+ib5rkwPkZgR/Qy08QfDFzaKHVCRGtonvhHH9EWAU3bCmWmnyXqLx9psBew+W8+e+myZqflGLjwunPZjq9WSKlY5+80KxLqu5tkE67ZYceOa2Ee24fm6fWPvoCcN+3JgTcbLBlwV3S6JkLZ/jf+r76dzCdg3PzOj6cXwmy3b/wGXWuw27qcm63wp68b9m//8lH/r5/5i6/4V73+V539V338V137635p25/7qwN4DGsQ/31flOB/3V9t+8c+5/D43/dL2/6xb0nGN+wLWFgrTkPBrHtXDqrMKDPrFfU6Dhb2fr9WUE1w7bbNAekEPyMF65+4v8vovHAtW/j6kaO8cNm0xavM2nVZ4LJN35hxzAaj/cgxY3qZLnOem4gu6+/7qG3/2Ock8xlf7DTFrcQZ/KvzJc5NFypLEtlsqMNgYdTj9Za7zOjgg+gch4WjyizObTM9qcmCMvc79TOHTKCMoORbBx/r3Re79WGfDOvv+66N/9j/JOed7a1jx9Xrig2vu6xENo0pi30T+jHcjoWTbTdUuXhd0bRF4t6MVo6yowqZTefpLOiLn83mt3HETcPcXefqduhde7ZRyUWfhc2FTna842iokt5/+vT8sXCSksnZL89C7uZZWyNYpnBe9DAkQYUfZgeX9Y0VYcG5O7hpXZIO7CaZTbzUIoItq0yvyU9m/X1ft/Ef+6shhMd+8uqkOZ6gT++LdhZo0st2zX+31p6FJTZ0LXS5IaY1XLHfuk9v7uw1lz7YsmDum53hvpWJca9CNidWjIcalcXvbMSC536rk+PWOcL4iH9my1detLT6huzUYKEowy71I4OG66HH/KcoimGGIVvIUnEWsrk3ape9NYV0zYUXopukEKWn5qHFS+Lh6Nhdx030kfAwUi33ySzwSRVeXD+WhRw52zGBaQsg+mpJtF+qHHK2OFjcHs1C0/n3DYrdc6D1uMJo+v7ZaGKd6l7Y94/958Z/7AMvZmFuN7wqeL3BNO2N7mKbgsD9vitaHFjwuR6c+Yn4MFqeaLlY4TQcGN/i6k/WISV3ZYhPozua+vhFNbcK4bqc1nZLCxa2nZ7Fss9ywZKIh+vyuMQQv+r8hk8GLEx+9iJg1mUnfJw9c/fD1xLwiayYOkmNrOfzxQoiffa4cnp33cs8aXhOpE1vkWNB9+JNB9tVdJw9rX705Fw5nMFFw0phFq7+mMgeHEyD2vzP/ds05NFV15KXJ8CCmltR3XqaDRpKD/IXr1HAjDu1/K3TWOic82zr4zVmSGierDF18Ryc09FfSI1nYeHlV9QeN2PUcvAYFHxVQpRzcF0SWc/g9zb98d/0sd9raYzH/bmYuIxN3YuNhdrtNsqLguZD0rxQSMVfGZH2fc+Tv1I46tCy7MhkMTTriyd2MlThKhm7vK2VgkEfZ+bYwnd6vo1eXeZaajidNVd2x9t/7Nvfof6+H76ahcMifaneht44n8J1S9tcAqxPwXeekfviWMrVerLYC47hbbP2OUpCY12p5yYbch8rGdpXTTxxR+34Za1EaRikPC7JMGcBmi+2haq54fz3mcGb0mSRo7rQX9SQXNcm43sNQqR/D70wW6ZQHgX52ma3Sdyefn3QYnmxM1yOu5zdwjsbwvszc+tVWPClFj6KeucE0YC90rFvZuPzmeT3MkostKcWHX8b4IBNa80Ygv5KWKfS02ssTXiUeJaERDGw+NHqSlO5efipA1+FWNDcdnJ7TxYdoi+OFK7bMw+VT1iSF8j9Cj/AV5dJ6r5BZSf/3JnKUFVa/3TVJBamqxQaNatZA9q1H+Onq2AfK3Lpxokkf4+OX53KboZA/u/7UxeponPt673rOAlP5/SXXNWG8KZFcF1aqYZX3899X9FL4Vrum6mepvq4Y2qyQHaaOnzG6/NYdFE4EWOgE2WkhpZ8J+eQ0vnY17Itff9HCgWb960Y0yEONr0HKaVmmliftLz/TROFOI9WI83sQ3oH9i25dchfC5fmpso/fE7hUefYr2/Gji1jCrxOn3VLC5w1jNMZj/7xfOQG9ffnEURXn5Z/9o4N9YYdz3Tt3smzsXexk7gfue9luYufTOPzxibdOaa1t2cjvjDDch6NhdWrLCeZML0g8Gjxi1DjOdB1W/HknRkL8w+u2DojzBMV2zeHvIpVwpctdit9TVg4o35EXyvHHUd8Zz9/eWQu3OkW3LtJnsrtT2xpveSGT7wXkxJnzMNWu5VSAqQeWciwunJFXPG4tXyUwod5UFV4vL54Pgvf2C4b5hsysW7NTA/ZR8r4qENOPJeF+NjA2bo7nRC7q/Jd4ykV3GAhS2UWC4373SveJjuALn535oQzqvDuU/1oLcbC+n6h6A2lDOg1fS5bMEMdjQd2HHLkZ+Fd1/Vzst/pqO5Kz14SpY6ImmmTpxOdX1hqn3Xnjg3mpLbUV12fD34hkW1xXCxcd7b26I22hOXVpbL6GRrwnuGmdfhnPKx1aD4VZIZF4S3xdl6aOPVNcsK67xQKFTrKlWWMMLUz1jZ0hRZk7ENWryXxUO5y9eJKHQMkp/PcPdCqhVUKliuntVOQyPx+5IiVHvjXsY1fsn0BOh/uZl9E8v0gShf3BGpCcVzz5ywbbRwe+9g2oZmCQr09d+F5Rdw+GJnpm6WD4IlLd3kRHT4ZLb1y5RduyPgozVEW1MORMzvK6SRO6u29njed4Cybkha152KlHrra/A6Y3R3ef/79+Rf19+dHpK41PTIrUzvgjX1ji/QqPygjgDHuwndS19JXaL6z8/PGEsdr047Jq+Dp6lW+x0hdtsm6npvf5YW83RqOtFQVFIyOe2BoTep16dsgqXQvGEgLJj/uUMGLPd8ieC1ZOEYvEAjf6wn5eukOo3JVOHzdl2xG9OR0c5UBp6gnRDzSPKLZ1PDBNOnGXBJXQQ/CU+/3u8HkpJHKrsnqcON0lX5IfMj3WOOdByqJf+B6evbEUXVk8Que1iJ14V6yTvvociamzffmisqfj/0XpWosFIluuPO8Zy90hsTz1eN+qGrAuVL5yikSV95daWHvFjth/All442PNVB8wvOkqwQLtwNmbpv80gEuJW1F3fs0Qf9mcENzBjmv/Mb4x5/sgNVaOlNTtJCQxykWxEfiLftmLfOsHbZOTZ9md1YLpRfkaeNJXbZftqT+7j0ahMUs+ARktCGoK3H4CqkjMtw7Xb6J0hDSeLaWI0YbK+vuLg8bxQK/3oPZzUVWYC2s7Bi9UAeCngXXLfspbM44zcUnao5X4rz9Wma6mLhlu9Pbbgpv86vvbSR9mUHJhPF7RfSgHOYU/jMOvVYzdqS910FxZaWjSQDAYf6waMcrCq7vN8YVztCAhX7RHtVrwBTNKJ3nTyk42Sp8kDYVA6Ns951rV/Ux99ybLbokftroudllqdzIOHou+tY0A9AfJ9Dv3KbQuUAhzCHqe6m1BDn4GaA+ruCa2I1/PN88Sf39+SCJt3xJl0WH73rDgvdwCrN2Pm4YrOTOIPFWfa9WL77QGydNFcsiP8zHk4kHzkoQf+jY9vnYhnhviC+caLdqpgZi6hfVaJE43FZearzsrhe+SODC9loNrJWpSDhixcKCF6+EQx29oK814/Uma01wFq6b0mvKgtcX0qedJ/4koahiwnVNcLUGfq4j8fZxVG9+qLAHEqM4ZE12a6HRLKv88AIWRj/P8MoTd0cc85StPO8CTHlZ2UARHQu6mSJ9cZIbbH1VlklkLIB34/nuuaTede8UfBx+1wXsd0O3Gy3QxrWk6VaGc8g8tYT3czcxcW7hinzqlDb2L55ZdoD4Fs1mjktJ053hdaQ/68JunYE+Wm44Dsc5DsWh7n9xKBe5Zt0nBwfMWgpd7q+66IyTnkkTZOHatVvPAjPtILY2dZtFnR5mPtl7Np3Uu6nT+JdrTaGDdeGCz6nNQPmKuAm+JN4uj6mZMPm4NZLk/fvdZ+jj8yeVOU96KLifk+kWvGcGdWHhFxlF+kj+0q+35RMF7yMLLvJyG+JUZsqG7yEG8IzsDU0mcXVH0u7rp3QNvL4WyKZvZojpV7jCWXUU0ie982+2k8fBkzeKvX4YYvutFpGPlRQ+p+2MMLgoiOvbhbqmBhsh713kgSXXKEjuom3TX8iF10uesxZkG2GLHr0h5CqFydq5la1G7aWWheTwyggpNu/Vcy794/l1DvX3578k3h6UPuF26faG5CrJ7kNl2lCLVMM7Em81r/gM2zq8MdvuffGky9pYWhVzZifBXY1qw8/meEOiXjHRYpIO5vqG5S0i/dFjcwXXWQLeyEmrO/iQ6PPt7Jc/aoiPKviu4TCp0gtWHNePtn3QwddOw6VtRPcCfGKzBAK8sO1elGezjS48PWKiCkgcvuCcfa+/0wObhAJ3s+nogTv04h6K1M0DZXG335t54OxiHcGkHXqoSdQpsNUm/pljwtF2c3dktLN2rRsLbPOfnVZDfJfmlfYnGhpuCAu9fKOd2B3NNbzjppA4dJ44uzxI2hWtHwtsD24HFhxhZu0lejj1SILBGXESh8s9lHbw6iMuo/vHPElSbLOtR9NEndG991i/gr0+Rp1Q8B9F6qxhcv98U1NHtFuzKc+p1MdGe0HXDcSPvbGItVa94oBc58zWzy36/8Xh1aN8NQVr7GF7P/LWVG0DVHUWploQP1aXbl5VLGuHlkzF6jvJBnj6ITKgcgzhnxF52tCADoavN2/weEPMPp90NZ/oXlzVB/rxQht8nlfhIB9viNRidv/oToKHhnkutrTEZ+0pHds/GyLnx7Gv7e8pRExf4s3NZobgo7Vf+l2NsC5AUPcA8V1q2YntMiwjXLhSI07dMkJzZuNC42cUstYsfH+SRxtNz8zb+dKNoWrqGJ1KfHUlGAnMIDV8eZy2aPpoEzxXa7bMv07hDMP+4ioeebxdLW2waaMJek9w988vp8B+epoO90URvD05/jlvkwnS3DatPVtMoXbjLje34DHQumliKq5kCs7afq5zFyhM6PnRu2l8fanQD91XFd6muKLLzpd99h/vP2yj/v4+APF79S0WsQY9pP/yfnTp2TtgFMde88dOQ77unTcS1F163NoB/ukb/M4QH1h/clfCHdIX7Jp1tljASB8mnvppp4gPtDoSJlxH4tZltvHnXTH6uCHzdUop6cu+KywLuMXygqGbeVXqEX1oKG/t0x+OWxFPXJugZhkz02Bk3IZ4wLVg5oSr5gb/xS1P0zfFNh93FJus7eDcbIB9RnFrktVZ4BZKiVSLdcOlr8z9K64aoHRfPvPjPBa2PIsypxxc0bg0S3H/ZEN0v1t9C7NZ+FItZS8f5IIxp7oCwywMwSg6k19M6vg366pEjhVMXJ652X1NoiG2ZfXMkyH6qbizJLpxqTO259Mar1ca4pu++8HJIiycbTT21Fd2wr31c3KChYyQOuH6lwYSt2Ml4pqjTjhAeMLzeK9II1hWz1x8ldTxrOc/9nQft4cmO9v02AtGKPVZ3TqLh4UVHap9Md10eD37XCa62BhiHvVKzqSPvtjr7S2qT8fKpUdmndtljPFyernhpO/bzfPGduknG9jM5wyfym2CVbMLzY3bKETTZQM7X1riTucFxv4AEwT84DzGT3yg3/PRy6t3mOOLxXN6whkTnDbRMcomPjA4fkeW42ZjtGV/UHBQNUX7lHnStQ9Jvbbi6R/3QBsn1EVpmYJmyJMWaWokdXnhhi5G63tNfKfuaOmbmoFjQlVmMNHVddsSOmy/qIOiitiqws2wIVbI7mQFhfjQE02zNZTgu6k2RbfVDDHG0d/vnKPAbfLhrnAQPzaYn9tmus0cJRrt93lOkfg/KlC6XZQLgc/WPiorMsd6AaOD/qTuv8ip27J08R09ZdqT100vzBF/+0G5/rF/vFcTQ/39vZRtLEi+2DljJYlzxb1n26+GGsJy5W5mnAsLp+zsFro988bB5Q9q7sYY4sQ5DfluRxaeuFgkMkO8UXfFZcG9IkOYblk55hrxD/IuXp4hF7yw+KPtnetTjdDXX73RjsT5dam5yZJ7vJDxYdH8IClSX75F2N0lce5T+9zyRbknFo3nPr5+jRHWiiFhC1govMwICD3gga2BedI+143gsciwX4j4BBWls/yXs90R/HS71iQuY6gf5+PQJHGeVTf5rHyOG1zzLzI6jY3hIzvr0a6fcZ4cxin7yRUPr0j8UFtpjButsyNnEZ+gzmDtbatywbyvWQ85S4wR+HVt3s843394alj7YeJvfS8eMBxjAjX5kNPV4iw8c4xcpj6NCbOfGzDyJvBie2F4cyYLOkoMNSs3J6zwz/vcmmICWtDjblkS51cy7uvVmDiiLXlciNUzE2iQBliE+Ng9PRKyPCwH9Gp1h/VNNgUXntx/T/qmgzNPi9NWMZAauKNbodYU2uX975+QOK+c0hnGE06H1c3YhaypZmjZvnyTFNFn/dT3DYJetni4qeJ13zozhG1deiKN6HNfmrKI+xbiGy4w3VRnWqDTbN3j6VWEh9a8oUJTB6c3LK/3ybBA4ur3fcIkDp13G5SzNWli5sX3X/LvWkA2jevkjRIK4e6CCz0uqsI89JmQhZQl+FdS5j4kPvWiWnKXvpZG5+mTaU/KLGExgUPBNI+CUYzbnpuFU9EWc6BBStoKiDu3Ivww6euX+c7hGjMahbLZ7V+MrTCeNPY1hyg86BboChJv0+tpGpv8zNMKLsXOghLZ/3j/KoT6+/tLWSyUrLAU3PLVG/4ij75ofDfGselx593dWdiruffK03vemOdzSmTKZBN8Wb4sx9mZhY6b1tHbM70xRrihTJ3cx7jzT6tKSDy3ZWhZhLt4Y8Opl4+uWJmgPashTInEs3Ve/auVM4j+y/NtubrEBI4PJ4SU2xKf3BlgsZX44YfvKl00kk1w6uCTKB4S5x9n1EfWb/FC4vKdBjtPm2CbYlW9H4nz8pY05jp3L0gEK9vpVplAder+KUuNWZiYdXT0SXkvnCuR/37ktQkmj1Y57EX6tXdaUbWS7z2xPttr/PwfJmAGljxfrE/qDrVTq2upJ3zvuSyvmGmKtaflnHpIXbg23SOvaYInbCJkd11TN4UZ/9W82TqER7c9Ctc8MOrSusZgM1Mo50vyNJA8apQ52fHZ3QNVj+4ZrFtoikRqdlQz6fvses5+mcrnjiD/qYa9BaZA6afnxcTndFCXJpZ3uiGGta14a7Ep5tzY3aRA8MqSJ+xitW5gHNnwY9VVU+gvvEjFKLOwddt3zqKrbkjPZdPbfsMU6k7VoUYEt7/w2lrwtBuOXU5ojag2xY17nznrSZ7OrI5bsvewG9SaZx5yvmMKJ5IYP/M3nZbmU7rfDY7rhWZtu2uKO6kFuZEEn3p/2ZsH+9ygcdjXxILkS+heE5dAgtfFNX7PynCD2bf1ZfUE94zS7nAn+MJkKCfscsORx8Gh++pMEWgp8lqN4L6KUqcWJBO8o5D31H1TTA/ILRYheI2005OULW6wNGq5wXxgimmB1l94CD5NMKuemeSG6GcCSQH1prh191V311zSd3xqHs1L8Md343Upgmso2bA6CX76urRO2AY38G4pPPmS4FbXMxa1ElzqbINkd7wbPl8cOz/2oSn2XvjMfEZw7ntpXlfWkXXWaXjL02AK607f/rsErykZH7ed1PEaju8ergT/5nnCuIrgCvcFMs3kXaAso/VwWbAZxKiS3mziM1+su2rZXsPExnU8xw0TzLCzVyQplvjMOT83vuKcoLbGask9QXPEvt5ryBQg61mX9/58jiNSRfnj79qa4yv/knM3prAQE7fv0fsOe4jTncdeLTbHCfMiaWXSX3ecKHq06zgd8WMYiWlbLCC+zXLG188UuqcszLEVtcDLwi/jphVaQthnVvEVUje5bwQmpF02AKtCOX/TfiuYNskE5pJ+JF6ELTVHURdJ74LDpQWssYwUTk/i63Qv89VzqmmC5/CWinx/a8Q6Ve1lFlI4Vn216NA1dVwuWndw12ZraHfPnHP+NIWdNlIpgWNUIHAxyjH1pjUiuFbXVpyg4CNy1vlLvRCOGO9Vztpug/t7Du19tJfU01KT7WJuvXr655c9z35mg0MBNNXbqf9433K4bv7+vuJJEp/3nLk+Ef1R2W3H4l5vBtK+T9b2YkHQcf1C/0pvLA8prrm1zwzg9b58j8mC8Lzmcsk4bxQ0jBf9WG6GcXMc6xqJb3R2KAm4OMkbQrPFLSX6zBAoqCvxhvTXIm6SFnvWeBH9/OiiamSOFRVxd1tNiC75JysKvvXEssPpHZpJ5mDFfKxqIPog9qmEx2yRBy4upvUptpjjwF2RKzZaZD6Lwp04prmB5SwRuCbaAnyjtgYrkTposPbL+aaXLghSXJdsUmWBmUJ51T9kSF44uZi0VDMxKzAgKH6yJRS5m6JmkPipZ4my3+1wRuKcc6VVJpboCN7z/dt0FkSVjr1/8sIZzA98VzeQviHOb2nzYdK/TIpapWA5yhnFYhJqH2It0TB63ZI5/Cw0HVW1enDMEa/ffV5a+dASUlRcmjipg1fWRBve3meP7UZiSlZuVjA31UzZTPoXyfGuh+1b7NBlEfAgMNEKE7/zui1lZyEniSX/4RMDjk+9zo66YQWd9gxFr28UDjJ55h08RMe5hcVfdk+3xqL7bwPz2km945jXMGo0DRvPnbl5KdYaeo1r2ePeUjhuHdMpvs4ax1/Ylqffs8bXUkl5e+ID1Qu7JQwlLEH1ZqUXidrg+5KIpgsknn3dS2/x7DVHu+xiGQ+aDXoSOZu771H4+HBFzpIWE3Dua086fdgGKuorz/y4RUE8N8xgzwMjXKSfElB8ZwNuDt/mh6TfuWJ5fJQ76feklwR6FljYIso94cdK0ncbi0ZU11guQBBTltfwti3O3KkJ2E3ivCj23ifWSk1Mu8Ax71yrLWIre7pT8yn0n+3yP5ytDnbcuPVyAg0n88Ny6cQHfntIC3/Zo4wclnWrhjwNzd3f07tJXZ5aoX2bV3ke9k9K8A7WoOHVy5wno0hd1nPpuirkL4Nzos0pixbTsNn4XsPNDAp3+M6HGHYKoyt5ZgR/Eg10m4K8yXsouPRWPvgmwYnjqnKjn56g4eknGl/Otn+8J+xF/f19WpJHFam5LjN6vSGqkle7nMTbslCfSA4fFj7rJCyQfuKNqx+1F34QtRzYj/rmQergFckZO3K9oa/5cbm6piUGnvO6smBUazJb1dUb2cuevPPzskROv77UOnsyfuvNxc4bvVBul15ld8MSXWkz+erMiE4aJu7W1vLCJI+LBS/aCM/zgwE0UpdrQ8e7J87wgoBJJP3iD0uM3ng51ZPU5Q3NVq9NUjzw7GqrycdFVijcJz4jdMFQfukO5Ve/1cj8Guc6mF+W1iPzq3Mov7ZZ/5dfHbyMI/PkmTBeprA79LI1PrfM4FQWJvU686KilJ8zNvZt6yjssEb6ivhVEdOIv/V/rmR42gmN47hVg8VtMO7AR85tJI9W27S58Lk74uAzw3cXwm0w6rVljhjR7TXycmkhj+3RfzOsQbLeBjW0J+3+o1josWFLrlK2x8H6UmFrdtv/8ovZfsPgqYodTB9a53Pr2/6XX/4uzXNj39LxatS1UNGdtgjZvb1JiuTXnexZBmsX0BDEEZ4v+sMWc5XKdC+8oSDjN7phqzA534FgDlNpEofPLkubPqeQYHgzXneJFW4syRawAg15JwzVpBso3N+QV5POskSoKb+hui0ND4SeC9TfJ/Gpciix0ccMUQf8ustjaAO+VLKawrN8DlbROxNw3Nfb4JtCw7fax5lVpC9L3MyMmsAwBleQvMbzUzTcrQmY1nyZwtyOs+lpAYb4sd3I0f8ODcuOXdHOI76XJcd8GWimDyGfR/SIzzR88BldOrGI1B2/plOGoToQfx7y0k+YjlqNuk8cpP96uFpu0bcCDbgcvzbbmfSjL6unFwfnUjjpPVF6w3tV1KbXX8r2pKOwh4/Nh/jb1gle8ce4lSHXV5f+8/0XEbblTp/2UQjLsdq2134OdOouJR7fTEeKklLZpTQK3h9X7q4omoV62cOdYjl0dBkuPXlyFwW249Niv8ZKoGRvt1BHMR1XUj2r2bdT+D4ma4m2kjisV9F5DCvoiJu8Tcmb5OPXappq+kEulBdW+bp+osN4zeI3N9f/4/354Tz9/X1y4rddIivbeL95g/YsjasrzRpqd99mW/mxsKlGpK3zsDf6xrVzxV8hvl3kTdVGkqfFIh+fHSghvrd9w7Y5mjYQ4TxdT9FYpB4vyS+N9IQQrzQf7bwN6N3sZookvwLW+EXmnnTHou3+++8r2OJwra0GpcaC3stZoZZq7gjhUpc8TnRywYqDKiHET/ZLROZnpbuhZLt4ncByW3yYEphgr8SCTT/3ivP8blhWFpWdvN0WZTJL6tbNZmHKiVlJ/LGu0JII3xtZRHS1JfTsLlkWGtZsPHeh3QWbRz2lJz+2xc/3DfSlWRC/Glcuv9UFX8v22ap12EK4i1r4VGIof0VcwHtWtciAm/Zf/n4tf9uu1sAEx7cK/YbJNGBq14eDpE8MmTKGO4v0lXxzf/QrCNCgQC7snAgL97T41mQxmbi2XKStSoyGM1wua/eTfD/3zj/cIs0Z6+eqnCok+ty4yE2DRupmaFhkzyQvZ+zIbmPr16PhyGo3+42kr9xLPTroFuyEvjO+S/g8aDjqy5azkIeFzMrdQm3rHXFMprqPnaLhYW12rgc3C7J7Uv12jXKAcLWV3bI8Gkoc6ve7kHwfe127yui9HeCV4r+nhobYTTHjrpM+9PNR3wT2GjusXa5yW6+Whn45hwOtvaTu/LhQMnE0A7ZHzcw8xtOx4HpM69mPFFwzi7ZwK9NxjV3u4yVpOrLD7NX031FI6bp6X9uChr1Gpn7nDOh4AbNpc19RmJl+5cgeXxsolqyLL/SjI2CrQO3+RxTynE/phBRYY8xbqb5zIXSc8bb2u1tPgXfyh1HBeZb4MefUJPNkokPTvoRevkth6dK+YLNb5hAEW8SCfDqmbL1SZUfqb6NREX078cE+a18/2n2ZjhqNiXTjn895b4vsHb/XFDtF55go1dJx7LXPKv2rFOgpF2ZG+phgthWfx40mOtbb3L54qpxCbMJO6RMmxuC+eFhkVzcd3ldzHxiQel3E1eGgwWcEw+qsyOJxDFgv3u68/QLRAbmnhk0bDGCkWpG3XJKBjmmTPp0/SyHVRVR2+XiAmy36g5klA3fq3k8rP07W57w/3XecNj7Xr3x6bAkDlje4dB4foXBxdcTCnM9qeC/XWhyYwUDLLR2pYqIbaSofN2aUqsJnS5Yw52EGnF/XT5pH6jU/L/VpzFNl1MvH3RA4y8DK2t5r9SkUPky3PvKMZx7O77g6LvEyA+U3qtIEiZ543HpaqRY0Gye21smaPmLgSfFyRgrRDd9HFsu+LZOCw0uLaWbfGJDWmXC8JomC8qsjqWVuYrByTf2+aZwdiHwqBCQQP7CnMeYJbQLmSq6RzFeyw/eGrXx3o//xvRga9ffvjxCdmb1l761jfcRXH314q24KDVfOPrq8bzHxzxFXe+4be+P8/pq1SST+pT67W/zs95/GjOJ49ckLLQ+j9bgcSHx6NZ7vdiJ9sfzpZG0HL9iE7Xh8ksT/iw/63DdI/84ZSIt/4OSJss8OSqMPk7y4/1puCfHVZcs2fSyqdIfZijkcufW0gf3PPuKfje6yz9Q44oaeS3p9gn00PD+s1/tz//8lSqVWeLnBhHPxxfZRdMxWsLbQJ32ZbHzb3rBjrih5pG+1nNSLn+/hbJRnQSeFTzRT0BU9S0VmtCrScdEwib2W6Eybh6WN9x0XsKerP/iiTkdBk1vSe9LHvfU8Vc+wdwFn3dhDYSZ0Uq/sDwuKs/Depdv/sIILYoXFVTZa0iHUf29inSgLjx/2KyzvZiJbOebRFAYdsp+l3k0n+mOYr3jYro4JprbWxjBHOr5FBxZ3zCD9guTpQ5ujmHC5aU4mQMcE9rJTs4if5/m8ifeQABNRwVvcxwfRUfm8JDtBkAV/X7v9+eedYZd2f3xlBB0yP3aULiA+5BWPjYe+pjP85qrX1SeS+tjP5ZxH+seDVXm8zfedcGxN0neD3XQ0Lr4+sZToUpPm/ZXTbzhitKXfqb4ikke5cxoPcZF5TmNuf6/qCIHXBZsXVtKx4uukd/M5SX/06mlg53oHvLY+yGBvJPn4zf1h2g8KGrmr+5RS7fHtVQjbo+903G9d65hFdKl6X3Rgap4dFs88WbtJmAEXnztj93dSeDFrzGqTBJIPuj/mzgcDC/1UP39tJXXfRlbeeAIDWV8vuKyyZUCp0S+hupmCaduoh88u0pDj9EMqLoKBZdMfL2F/QaGpRtQ/bLMt7kzelyubwsB+vuNPNpK+YEbEl7fiasTPPYh5cbyEAR+jA3dO36bAsSWp6fx8C/xwP+Id94EBmY29W5eS/jc/fNSe8DIzjC7eurtnFMmLayqLcyqI3yiOTF9xzhSHnMwerOa3w5QfJw9xlVGQqGvl1j1ggr2ay0WfyJDra7VU30f65Tkn2FtmZhuT/sVzSo26HU7ISo96f55ChtDE84GLjdAtH2wfYWGHiUFLxtuSPvr2t1XvSqoNcCBpsbiUrx0eLz12hUX8jML0FPMtEUBmiL/wokQ73Fu8Yl4C0R+9yxwd6310oNbhWfbqkB34KyvqnfZT8DN2mfyhVQMJklF7Um7aIWie3nxV4lvSVczEWhaoQeLW9xNib+0gPFn8xAyiM/f1XNP2v1LBi9mKX1622+HCnL7GDOJb8GnZ2vTlyuja0SEZ+t0O1VXe3SJEf453C384xz4XhmJ7ND5Ptsfmol0ewhsphL9QPRXZKYWb6gv45XXswVOaHsSMpfBmo5BcYslM9NQc/xBnZ4+tPzj02VgUBJXV+IMcJ+P7xvuSdiH28KpSqHcN/8f344Z16ffvkZE+5YJR2Ws2roU41Xn7mp49HZLWxZzFwSw8lH+bKynrDTntBP7ujSQfOWJ8bL1ZKLms9EG5zAvK3AVGX0g/OnpJhvV1NxY0pnFIvuvxBJWf+fjlA1LXWs29QuksMBRJEWZ5YtW9NW2r3tCRuW1vUbsVCwUi9fkBMu4I5B9dqTyPgbmLChU6tFmIkp8iccjfDXfvlbgqmDMw/5rN6rHEL4nvvMDzZD/Rn0zZ6CveDDxjXvxQQfqR77f0LD8udYXXmBT1hYsZuP5FiPaJ+KI9kQ7Nu7RcYenXaXA8iIFo4YXFb4hePd6ryady2QV+V1fvTY1i4Kz65g9nZxGfY2OYGJrugnVr67ckxzLwQv/Mew+iYy1U3O0zYi5ocp2U8C6ZMdi3El901XMtI4jNBebX8tU+72IMvN+VRPQqJ7HCKeAeE61HuO5vT2dg2pNJq8WILxpXy0h7t56JfcfO3uI4xMCnUFZBD/FF2r3629VnMNGbV6QYcZrUQbF8rh0CLMho8t1UHMVE3/KnJpGk3rX7T3wmQHSpbVHIxmWHnLGiK9mGUc5AcszdpuqppL7MLjNNDHTG+G6u+hM3GPjC3Mc1n/RNbEvHb++54IS2XZc+ZD1jwPtHWFDaOHJ/+8HJweWEB/f3lIp2MiAgtzNeaTQLF7nyDhrmOKL5UODGbjY77K1/KC1P9Cph3sHjZ4wdMTPOMsl8oh2OxlD7StlY0Kpf5q4tbA8tXcbKFAbJ603rLK9/plB+Yc3LfD07dE89yTkuiORRgnDbT13ie+8mrrGAgTmedb0pW+wgGXjg9nXil976fH36lOhy7VMYSeXY4e2NSqV1pJ9yEjxXodRji5a1dZxRD+zA1/JOMqSWQoj4mm18863BnNJTuIXDHuIzE/csqqQQWt80S1jfHKYn11p/1LdHUGDWVzeiJ1ec+oOn25lBbTIbs4Zmj2tClzMaiZ60TtEpVrxsiixtbalqpj1uwa+vl/RHwXErJl3OMEHvTe7bKkvtkXvpy8btBRScx8tZtfCaIDVCx7V8pT1406R2150m89xF2/w0xAgBoxRmfd5iP9DPahL/Iya9463PVCN4Xk4ob9hJ+tGKhwa0YxQuS2nLls4DdhixJr6utcf9cF7Wvb3EX2Wubk6x0AbduFgj74s9RpNGgnsPBSmleUEpEZp4ELNFW2Wcw8A++WqiM7u+HUpKVlBF+r2jodkk35uV1cZ6ED3hdhUqj+FVgfmc7q8+Og4D+4nyiRQWlPSw1xFdum/a5rncwAHKN9zj5DYQP1xKpdhHKCKEb9/x6V4OkErDFMsYCiIPGhXPtEujK8FMRTPaAVX7jQtDIykYpHv0brkkjHsaY1/G7nNAw06FYsvlpF87d0c2O2MqpBedOH/tpMPA+5NVy/7xPVlQf/8+KdGlaoGrxQ+nLMTECzV3EnczsKi+hP9mOAvHL405f/aoN3g9LiUzTjJgtmmfq2wI6fffh+tlSHkjiynR9vAuA1OC966hAlhw9DtvwxPrhapM+lIW8XsW3s9e3VrIwo7qPq1Odi+4PMKp2Ol2iDge97HWhYUz/tkdHsc8cP3IEvGVxnbodeVo22rNQtyH/XKK6e6gVVS5pC2yw75Ck1GSxF81+C1ULVrlBv9joUJjN5H6Uv5Nj4v4q74KndnTSb/m6bD6gluKHQ5lhoS/V2dh6qGScoFLrvD4aYSz7SC92nD6feK7lDfnc4t7u6JbouXZ4xN2mCHZIMlHfBdP+YdG5TlE92xeZmuetcM7mXncrUT30jLHFqk/coHNpZly50vt4F9+RfSqHAuVGZ9k3jBdcLNbfMHl23ZYM8/1tDzRsdsl/cw7LUzk8JZ1HHpqN/CcbgnRq5fvdp2ecJOJKwbHA569sEO4XeWSJuKvOrt8AkUymGDfcIbBIvVu+H34aUnvrd/ZMiEWafCAg9S7ljHjiu2Ij/I9tFhdRpYJ+/fKmr2dRAc2fxTrInp180RxwbJqZxT5LzZnsNtDU9b78AeiV0s/xNdmz3TGK938eAUBeyRoxwrLjWch17zZI32DE7S+SexslbMfeL6wdAwL6ifdj3qccUSSSYH8TiN7FEV/u53WT8Eid3GiNNMB9S21No+D7aEzqyS4mPii14cNC2RD7WEUt+pd2iZ7pHzliX75iQLbrkVLbGmk7xuzY2rXSXv8/HqQ1VsKskcu3kj3YuBWTHNCa4092JOSpc8Q/fnU59eSzaJD3/RM7JL39qje+eD5VOKLRNTe5XKa06DdWJH0fIoDVBIjyxfdoXB9uSL639vgstJ3Ycx2gAefTtspoktHKhirDLos0XUr6WG6qwMebLX+nF1KYe74slo9QwuMn1jHcSvcARZ3K0tA9MfT1W2V22pz9ColaUSuc0Db0q3PQoj+cEz/fDZJwBx6TVn26xMdsDdGpiLhDIWwmfw/VnWYQOgET8y5PAdcSBCabkt0hjvpR0WilAn0eO74FJ1zIHGw3rIml8LUEy0yJX2GyKcnK6o+dsCL9MO3a4j/eT3zZbUXjyG8m8W/CLU4ILty7scxWRR8yp7zv44BGsYduNQ+1RFHbvOcC9pNYV2qkni71gI4sLrCZfUdMX78Ry7WJqJjUeLu9xXVkd02zSE5wBFRHu112fEUuC4UTxmvqII1UiuO7FnriJviL9/sXEt0KXVpdJ7wXKinTzgokeaIPVevvJGkSB/6kXel2iJ57LygJO9zyhFTDsvuGRNGfKaw/LQMwVkwsD6yde8lR3ieVX6xZwXxY08m7p16Rgidn64+Sn3riM1rMpe/8KfI+mUKqr/gg1NxzQ6ddkcI+3335/D7x/flh3Xpj++Vs3DkEjOob9pCpMQGvMYjkl8HTntvjmJhy+5yMYapN7T3316lwGMPm9q+eYqhLBQeH71yXpgXOtf0HzhjYI9t81Yp7l/CwuZFVikLXnrgY0TXpnPr7NFqs2rfamfSl8VeNGdIeSB8743CsHR7SAbM/yZIfFR3ltHBaSfcIOmxSkGn0h69zXW7bPVZoLlOc85f7AZ7g+98LaSOqIvWJ4zTZcGHc020Xa8rQmXmbtvVaI+WsZbaYkSXZErU7nKmuELLtiH+R6s9ll2vcxciurReUGbDHl1X0GV7eRR77PGmavzJ20R/TijdD5/e4AIrK+lTT0Y5IGDjEpYM8Ve1Jy4lW250weh5Nzbv5nFA8e5tkyKJ/lwak9VTzu+CtxNay0xFHAZ8mgHp+yR2tpiuKGVC6yJH0RRZB9ziGqXFS3Qm7NHJ2RNUmUh+HxAZremA0U89ap2J/1n3bbem+zRnnBSrdlZ1d8CB+zeFkohvUVU4vKvvuxPG6louA6lTA+8Vc7Nw+eyhu/vKHFFkVSXdSvqqnz/PJv2dwvyiKwUPvR2xOHTRuys7HEDN28l7vJvCzSC5RxZsjhjTcOFgV6YD1F14OiZ3UNhntuyTdDHpK2hTDahmB5x46Blu+5rCo48+Lz9Y2+HBqjOGBl1kHVbMGzOtkYKu3I0Jac0MBHT7X2rlcERAaMbjODJ+cSJt64NNDEh85Z/jx+OI73OWVk97QiGqZ83FSXIM5PNs43423RHfzojKHXhG8jeLfdK7GjpULok+k5BxHNjHflNHxt+w9LAifemdzeorH8x1xIQw5xcPiP/x4X3We7qMBmOVuKx3po74ItJ3xbuawiGbn0/mbDGtt+rjTR9HOAR2Ie86BU6xU3f6OKxx6lWH8p2tjpgfnMF3mPiigecI+VZYHRgaMW6XI3aqrrFSuEjBg8tX7e44S3yryG1l5DtC+3H2/BlEZ1wri812vzbHBLmV6YXljqgM0c5cS3xOfMWHwjn7zFEkn8wncs0RHyWLZNyJ/rjPyul9WmuCvHBjsdrPBF+94/nLAxQOfqR980s1Rme3S1bAGCc4nqd9FdhHIVrdmDdolB4UnvptfbLICWme1ewVxJ/0Pp+ptzRbE8mjufa93u6E1KyE4P1ryPwzJwe1cqlBeuXWjLIiJ/gs/LL8A/EnNzbOFrPMU8aUzP7DhyqdICNYo7ZpNYWXB3fujaYJwOPBFQ7Pec7o3n5tsbvbP36nYvj3xP74PQcWyYPjKTn93jDdXdfgIO0AOanU+73rWLieMPtRfJA35jStTPQwd4CT/oSVH1hEB6Y9zX8e7YWdx7j5zOIdkH6U8g1dSeqmjJfLaGFP2Hecsc8sd8ANyXPJp31IfS8Qu5kY5o7bdY+v2ZB4S539UU+ZxsK8New7k8e54euDNdXHJR2xcqKK6jOS7/JCUzervndFaqV7UOosR/jRloW8JP1UgPGFtuk5LrArat7fZ+s4+D0pkr9JkgkM58UuaJfJ7+xwcsTsurQ3IiR/d3UtoDs/ccalqIedKxMd4eI/JWkZPwv3la/0Vmx2hlPw+izTHY64rGC+T2EKC0LdNaUxwc5YqjCmedIeR4S9mTk1mocF7yejI2fQSX03LQ15QvQ8LFxZI2kiC4feeSxPjHdClGDdXZsCR9Dj6j60khZRVONYgusKRxwPkt9a8MARTw0ruvvbKUx+v9nF+wDxkQYn6s60OcJi1lSrzncUvomz+68e64C5z/W+3OF0gqvM5XbWSwqqT4u2SAXZI4dHLmiBgNOAT3j0dKg+HrPDPDcRtuVKTgPPx21JHV+3+qhc6xkGTlyqjIy1cYJVolQkk+SXnl45xzMWA7l1R/R8HZww3vhCpt1dUq8Te3zdpOnY+Nor1D7GCW8W9CRykvwKceRSSY+hYcqMzNTWnU6wu/NBevNlohsHNarDe2wgETF7x+qzTvj5uiRI3pW9uih84I0Vss2Mnu164AT2xodnFpH8Um+xec0ZY4l9nBfLf7Q6YaGZjcxHkkdrJm8KH+dijlzVPc6ek5zxkUt7LttBCjJWj08v9zPDJ9S+ziF+6jH/N68GUq8z5OYbjRtjDIF1xa6Z9s64caaqqJ/0C9FfdrncKjTEu1RHrR0BzqjqsLySvpnCu62Tl355rI8X33VvYr0zNkxVjGD9fJ6yI1ip1hZo+sH9lCPLGT8fs3SSep0r5XdIpkcL8i/qKnWJv1N9WBdhv4rwf5aPF/muhounH/AKdJK4cPtxQonUZU27oA18E1SxYUKJaybpa7tP6HteCCJ69ZTo4wllnPIjcjmJiR0vVutyEn7hRhlXpTBx2NfsMFDwZOLyffbJ8wP/8fstw3n6x++fsJDRc8znS5M3vl3gm7UuxBEKtmKtdYmk3n1V8jfS98Y+9pVvTqQ6QlEi6WY6yd+KZI+GRd5e2OaaM/bwXUe0ZwZlIYyFCC+haFVeL5SfiGhUbnLEvnHn3n5dzkKBSvsZ9Qp3JDaslTs/zwmnS6Z1eLiSOmsn3uNNc0d/WW/ZFz0n8Na1KR6zI36exr0+ZbI70DzzU6upE57tWB+fRvL6Y/yrHOMbLjDY+sqie5sT1kquHeNK8tFpIf/BLnMXCOpFKZRnOWHVASmpqaSeil5dbbPJnolvvXPDg0qdIBR2vGQSHwuGbv7GW047Y7Wq3fwT95ygkJ18+/0oFhjr363pyXNC532OtpgOJ4xOOBbU2Uv8qvYGyXW2TjD5sSV9EpszZstOqFzZRaFhm8VKGpcj7E+Ft/PLOUOnvvuFGOnT6/bsDWMn+RhGs7pbquaMY8FeK16R/HJsO2FSvMceneLyq7idnHG989O3WySPpu+Sy9gEexyrj1z60dsZtRV+/OE1FDbypK1acYWB0gsTTi1PdsYZr5dbF16hkPmtdp/VfjpmHJRe+uCsMwL6KhRuEp/MyfNAe7MjqYNafs5zSp1RcPPFjpoSCpY3V0y1UKKh/vCpkmmvnSGipfPJhPjk6+c22LhmWeO7uIDlNxJXoYtkBG2OknwXi8p6O9MKD050x08h/cqLiQH2jdkUXrTmLv6sZ4nu+WENbOpMuGc3wZb4Yc33IdyXoswx6uRqUSkGE1l22zInZpD6bvNaieZqBtZh9u8WvkwwePx5G0mfLubRkXsrxwT3V3upha5hgi2ktUFlGwXl65Pkgl2NYFQRNNH8IBPPy16b0BMoiOaEXtLfqo9D6wVfj7/LxK4JbA59xPcazTklZXlfD2c1Hh12eM+E4bZ1U2XCKfScGqvbK6EN87ZJMs3cLphqnbVhdDCFgkbBXdNbNeAu5aSQKUF8GV/Lu+wlZJ0bMtfcO6sG6zwOX7q2C3TDBWTliO+t87322OKTMhpuiefGM1xwVjjq1vVECqHHjEpKYmchLH/c2E7i7550LNJjRFB/fH9/RN79/vs/bcR/enicc7rpjdFRzVOOFjvhyeRXakpbid/TPcOs9fXGQYkdAVX3neCxttlcaD0LWxP4Yg1veWHfnUjRT71OSLF1nLCH+OppZ76/lNLwwt5oXO8Sc4bzq6VascRXT+tfFyV40hNZS2zb+jTIfV9lwbUkmAWLWIPqG5XuEEp3enM4zBldBZc9dzBI/37CoyN6kivmyq8Un0z06oVRx5IlMsSHK/jEJB13Ro7Rl3wbISYcDlY8rCD946jEk3U5NGcYPApoapFiQuUlxx3Zz6SvkXjYSZ/sjCuHjMo7ZzNxdaW4ox7pKzdc88qbVeeIjpId4yiSl4kRjrWVpB4tyrn9/o2/I/iTEiQkFzIRyyakVUh8YMz1wImxex1geYdxyZZi4mj0oS/7Sb5s7bySFjHXAbMyj9xq28DE7YunstqqKGzOXMltkm+PJPZ2XYFUJny8RK5vvUrBvoqX/+e+hkq6e9TJ20zEtd87V0T6x9yim+ntJnQsK0i4JT6GxMP3+JnzTlKIfOt8wjCJhl3WaklFIi74HpCt9ZTkhfAitidv8mxRKYHt+kRXs15qtLWQvBBsj5nJ7myD+cqCH9cQHQpfLjxRLJPC08If+09lWWFacGNTh68LRjUVRm0l8a/0tTi8VsYSUp92PNzOcoHLxESqdQeFu4djtJhRFoiwdF4qv94FlUeuF94ieXF9us3UAkUzUI2PLkkdI/PhV3YaQ/yeyS76psf7TCHL0jKdetYFL86EhZwk+aJZbN3qWmWE1dYL9C1eEl2MYPJuZFFopVmbP7hrgHb5Jekv2V3BVXv1sAPJl0A5RQGDxTqogcmnEkNXZFwRO3ma9IOCqTGeknLamN/L2VRoTfqkKc8TmSQvqrUSF+1ynI+Pmy7bW5I4J7a0frsrheWbD6Q9nKOC7gfyCxJ3uaJJYe3OFFJPl6qNS1M8pIgpiinmS865grlE9mz9BuqP37UYkS+//55VDwua1zK4Lhzxxksnoegp44iup0ziXrmdhXT2/6vj3KOhzt84bkMuXVCR2khqyyWEJHJ5S8rdaDDmPkMKlVJNar/jklBJKZYuTJxIKpJq99eIUlQuJamwW3LbVdFFF4lt+X1OW79zfg7/z3nOzOd5Pu/3+5nz/b5ONTZPFMJbjlFTvYiJDO1pv+gmEL84rLJFJBZAb4DK6SDztnPb3IUGJGeO/+nZkZ0SPk5/kr1Hi2HizYJAcTOP7FNNoF2WsMDI7he56JB+zVqedpzksZWlrR0biV7s35TreNGEBZ/8MOOh8WLYBZj2Z/j7w+/FjF2vSE6cRRYPIZnnBxMcNd8XMrBmdn+pQxQLEY1hV+ufkBy+W5Kl97cvzg1MeHX8MguV1OSFe6opBOS0P5jo44tCUUVQVDULdy+l+NmUU5hi0W7ZOJuO+AxZK3lVNsKL7rJFZyhwWl1DDJ+vRkRyY8rM6Wy8+GN6/f58ch8NDno4nqchYsAj3ZLHxiyx0Ew9g8KnrC1MxkdPtPoFJ5bEsfFSdekUPdIX78ak7OMrPbH63Sff9GQ2amjq9DPJJB/e4aQOenngdEu1n0wWG6+mwtSM5B/3OT1yycoe6PEoVmHksKFfvJ5alkShsr1AJZbljrJN8q2M82x0Ly8YciY6+dBHWpOV5IZ703xkl1xl47d16XLB8RSm7lAYli52hf9tFcHlejai/7be7BlDPl9wxsrtijPUuta4Uy/YWFAqd3qI6HzKXYWjATdX4o1DdOPvChw4TcoTXtlGYen9jMipGStgfHN+lacBB0b3d1+9tJH4l7S7z35wKTx9aDLGBRy4GSjZL1hN9ET6MmDGRnOkS14sPtLMQc843tqj5HxSMCv5QKcp8lz3pHb+yUFQopXi4JExOGx61Og8NKLnEW9Kn7jHC7HdUK26gMH6+t7i5jQxFFcxGXn6QqxWNwhND2N97cvjg2J87OyPdaPxUH0tO/nTGxaqt0bOrrMUo5CaVPo5iwvHtKgXMvLkvvQnx+sZiRGf2f24aBwLeu+Wy5/dwYZGK+3zBqK3pw7/2jTDnAmbJqVbmSls7MnVcJ3/nMyh/D++E78wUFMNUZSU+JGV8GY+yRUy3po9dsV+sKjO1G3uYEOy6taw1k0K5xsee0gu0jH/yQq/guUc1OydgBzi77nrnI68W0jH+/zp94R0DqYqq21WJP7+V2DB1tVmqyHRSiz+dQsHwQ56bwPTKRSJNvRny9BQyJnS3nOFQ3TzoRrIfR/eW7p+RaAn/A6skNY2cPDsbA/tHul7hcGzKptYN/hobTF/KsPFkwqeXjbJybxbJidVB8ke/fZpH28GFzHO1yO1SE5mD2ptjklxRtmEoc9NJlzY6uk5GW6goNScK9zwaAXWKnZZSddzcbnGPcSWRyGkzBALRdY44TUk8fuLi/VZB+9MXEmhf8ahIpWSxWT/3B1rMpUHjs/+vQGpY/DxvuvSSB6dTiSmVQzciVguhNenHyYHFLIxP7+d7R9H/PpCBk+tRAAPCTOfus9GSop2ggbJw6IkWzXliVxIlZrLojicr+9JHSN74l/bL5nU6XBwJ0zJumsn5+v/DOtlxf8+5xbChNzZaNXqeg52RHnH2jWROTfV9Q528Ue99Elfw0cOSl+ma3WQPStFr/KLEcmx6rbrcFyRi4frFDiMqxQSzsicC/ndD8yjWTUNulzEWuZ6O5B9KnidRpTCVTosLtqqZiVwkWx1v5lB+ph4/cLbKyF0hD9U6qg6xIVXd21DHdENSerhe2ZT6Kj65JEnzeDCv1ZyLJv4VEzSgUhFMQ0NVp69UW+4sNPNW5FCfOepDft1XJsb0iwNivvteThxJPGANITCjc8qzp6drvinMOrHWi8ekn1aB5yI7xQvEBo9Dl8FnqFBYUcCDy3KQot0Bpmroh/VK1uWYdWAX6vabD5u0T4MNluRffDMZM0LuyxBCe2j3zvwYT+js6JANAaH8HsfR/IAVSNxfqOpinYX6ddLc/EOJS6efvgSEhgohvLpufHTUgW4l/TbM2ttLg417XZ5xyD3N63Wpu8BDxc11vnfCOYi697Z+77knlKCR2ccy9lYanIrsZ/krK/Pz/dQ0LB+VZtLchX7QOxaN30eNLynRg6RvuyavEiG781A3ZTB2Y/8eZhmx1bYc5pC6u1ldONkL3Bm3p05yZUPOVZJbGEwmecdvTrOZe7w39kbaRjBR1bK1oC3ZM5dI45ft6xzQmHT+LhZXXxE9Mu0WK4g89DRa7uNbYvdaoomUxYKsGtLjHyfEfH93VKbAFNr+MpPiigh+VF0Wb61yH8MvuL3cxvJOSS6NxDrb3xxnwBdpSHbUoN4mLREpK2+XAxe/lrawEc+lFI+PBbs40HyLjI8xFiMxQMdAdMXc7CkImdq5A98VDkomb9+SfKMvnuz6VYW1r3rqzxmxQezXC4skuw7h3T+yLUaYkB1WVDt0r3k99Y+mvdZQnQptVvzjR4dfunh2uFqAuxYdTvUnOjGuM9FYt1X3rhpYdFs+5MA7Q8zS/eSnF958Zjj6v2OCDXr3HjqtACTzu2Y+8GYQusNr1m4boeB8oPD46oFcD/jdrt4DoVte+VzddptsEl/cyRVL0Dq0/GslcvG4EN+P5+RnMZ6MZpcros4RgIYTzjUkX+DD8o89JryHDE2DZ+z9W3n4eQnF//HvXwk2riUzFcQI+3P48UP0pgYntj1p66HAH27S5zb8yiU1rtWqhsxQRNdzTlPF6BDq82llpxD57K1LfHZ/vAK1z8ZwRFgg/Ka7elpxK937Um6EEcHy9myf/F5AQ6eb2ixCCV7orZi7y0jd9Tti65Xkxcivt7hSK8D2RPjckJN0hzwYPK5uEamEPvz99nZz6SQ2XPitwZN4EKLa6g0SIg8Q3OZZHVyT4vXf3yYag8qwfjComAhLmkm/N6nRY3Ot2wbizMpxmt3zXHck3zwk56Z/HFQAEOTgawvwxQEsWWyVbZMrGFXRs/tE0C5bGgej+SNjvQjd20P0/Ho6pK5r7yEmFXTxy7nkpzvabdIVOUAbY8ov9JBIdRjLMpKJlGj8zDbxuBSHiU+uy3e7NRz4gcJTQXytkJ8HEz9/PQZqbPmbebSNia6ZppuFx8Q4j89p/Rj4yh8fGqm0DvNB1rvkoYXdQsRFubuddSH6BKXX5lM9ll/65ZdOXsDoBu6SsNXmRqdk9k2BsdysxiZm+c/kSzkYd5ZD90lPUJMFyZu0b9G4WCGbcSUAyz0yCY1G/8U8JVntTCS5KvaF6G/VNNxzdxbuvZwAGwfz7GscKSw/K0k3KxnJaqctm7I0wiEws/5Gx0VqNF5m21jcC+dxVhya8MvmiIuonWl242PBcDheHHwzyQPZCaUnPpxGRvWFrlOdaUBqMjM9qgjOa2+rDLo+TwfbLmWs8/UOBDdov3lV5aSc3vWY8mMd8H6JCzxzQ1E+i7p3azv/NWRfM62MTiZOmJsb5RropVxMDk6+b3BqkD83F4Xf5jkxsuvF/2j9ZIN+jgjnTCfQNhd6LxeTnKCgrVrvMCNAXfqXL/LiUAEFctKhp0oVBV1b6rw8EF/9A/Vc+sCMXBxqM3DlBqd59k2BldTVQz6zC/lKj5+8AzplbWnffv+oEbndraNwc+U+VZH/K1O74g6IzmcbWNwMnupf+vkfqtzKOh/dUblcLaNwc9s+1bn7rc6i9b+f52RnExS579QSwECFAAUAAAACACCg95W1Itc3+5OAADoaAAAJQAAAAAAAAAAAAAAgAEAAAAAZGF0YS9hOWQwNjc2NjBiOGZlYjI2YTBjYTM5ZGJkZDdkZGQ0NVBLBQYAAAAAAQABAFMAAAAxTwAAAAA=\",\"c6cc38d0ce9691fbcfec2dea61d638a4\":\"UEsDBBQAAAAIAIKD3lZzJp33SwAAACABAAAlAAAAZGF0YS9jNmNjMzhkMGNlOTY5MWZiY2ZlYzJkZWE2MWQ2MzhhNE3GRw7CUADE0OSnF0jvQO5/y4zELGzJ0gvRv1gHO8CJneoMzuHCLnUF13Bjt/oFv+HO7vUAj/Bkz3qBV3izd33AJ3zZH/2Ff/CtH1BLAQIUABQAAAAIAIKD3lZzJp33SwAAACABAAAlAAAAAAAAAAAAAACAAQAAAABkYXRhL2M2Y2MzOGQwY2U5NjkxZmJjZmVjMmRlYTYxZDYzOGE0UEsFBgAAAAABAAEAUwAAAI4AAAAAAA==\",\"ce52d598102e2756143cf4f27a0b5911\":\"UEsDBBQAAAAIAIKD3laE1+BQMwMAAAAEAAAlAAAAZGF0YS9jZTUyZDU5ODEwMmUyNzU2MTQzY2Y0ZjI3YTBiNTkxMS3DCUzVBRzA8VWr1Wq1WjVAfI/HfQnIfcvx3vs/wiMUBAS55BC57/uWx/He/59ZZllmWWZZZllmWWpRappXeKAIAga4ttbW2lpra99+bX62j/G+dIz3Z2B8IBPTg1mYHtqA6eEczI/kYn40D/Nj+ZgfL0R5ogjlyU0oT5WgPF2K8kwZyrPlKA5bsDhWYHGqxOJcjWVpDRZdLRaXOiyGeiyuDVjcGlE8mlA8m1G8WlC8W1F821D82lH8OzAv68QcKIO6MC/vxhTcgylUhvViCu/DGCGj+kmOHiA5RsZuJSlOxg+SlDBIYqKVxCQrCclDJBiHWGGSyjDxFpkyQtxzMlWuHCF21Sixq0eJeV6mjRK91kb0OhtR6TLDRuR6mWknIktm2wnfIHPshOXKjXZC81RC81VCCmShSnCR3KSyvFiWyFKVoDK5WSWwXG5RCajQCKiUVRrLqmWNhn+trJP1Gn4NslHDt0k2yxYNn1bZpuHdfm+Hhlen7JLdGp49slf2aXj0ywEV961yUFpV3IbksBxRcf3/qLSpGOxStWPQ7Li8ILfJF+3ot8uXbOhfljvkKzZ0O0fRvSpfu3fXCLrX5Rty9zC6N+Ue+dYQ+rflXiv6d6y4vDuIy75BDO/J/VtxlW7vD+D2QT/uB/rx+LAPz4/68DrYi/fHPfgc6sH3k278Pu3CXwYc7iTwsw6CPm8n+Eg7IV+0EXa0lfAvW4j8qpkoGXOsibivG4n/poGE4/UknajDeKIW08kalG+rSfmuitSxSlaNVbDm+3LSftjMulNlZJwuJfN0Cdlnisn5sYi8s4UUnC2g6Fw+xT9tpOx8LuXnc6i4kE3VxSxqL66n/lIGjZfTabm8lraf0+gcX0P3+Gr6rqxk4Eoq1qspDF9TsF0zo143su16MtsnEtkxsYKdN+LZdSOW3Tej2XMzkr2TEeybDGP/rRAO3Arm4FQQh6YCODztz5FpP45O+3DsthfHb3tycsadsRlXTs0YODOr59ysjguzS7k058z43BKuzjkxcceRyTsOTMmZXxyYk/Py7rwjv8rf5p34fWEJfyw48+eCjr8W9fy9aOCfRVf+vevOf1BLAQIUABQAAAAIAIKD3laE1+BQMwMAAAAEAAAlAAAAAAAAAAAAAACAAQAAAABkYXRhL2NlNTJkNTk4MTAyZTI3NTYxNDNjZjRmMjdhMGI1OTExUEsFBgAAAAABAAEAUwAAAHYDAAAAAA==\",\"d552bb024dc71c19d97745e2dd56aa11\":\"UEsDBBQAAAAIAIKD3laz9g9HbAAAAIABAAAlAAAAZGF0YS9kNTUyYmIwMjRkYzcxYzE5ZDk3NzQ1ZTJkZDU2YWExMSuY88+xSLndkYFhn3Pgn04nGLsAKL5zYrITjA0Sn/b7NJyt/f0mXD2IDVMPYyOrv3vioBPMfBgb3XyQOLJ6mPkwNrr5MPXtgVecsLkfJA4zH6YGWT26+2HqYWxk9djcj24+snuwuR/dfJh6AFBLAQIUABQAAAAIAIKD3laz9g9HbAAAAIABAAAlAAAAAAAAAAAAAACAAQAAAABkYXRhL2Q1NTJiYjAyNGRjNzFjMTlkOTc3NDVlMmRkNTZhYTExUEsFBgAAAAABAAEAUwAAAK8AAAAAAA==\",\"f5520c5d17475e9221937bd716f551b0\":\"UEsDBBQAAAAIAIKD3lbNN2jwSAIAADAJAAAlAAAAZGF0YS9mNTUyMGM1ZDE3NDc1ZTkyMjE5MzdiZDcxNmY1NTFiMF2QO0urURBFozfx/Y6fb736V2wEsRALsRALsRALsRALbUwTG22S5qZRsPGvxSTGvIx5CZ7h7oFFApss1oQ5szMYi8V2Y/8/g/reFm9r5n5APIDfWP7ge0e80zffE+9hth+SECfw1q5m7v22eMiB+KDv3Ti8v3UYkhfnsXNfM/cJ8JB4CH445Eh8hLfimrn3245D3sXveOtQM/d5cEFcgC/gHuNR8Sj8SMiJ+AT3DGvm3u+390/Fp7jTuCguwhuXxCX4Em42/hB/wBuXxWX4MroYj4nH4MdDzsRn6DKimXvvfh7yKf7s63gOXwRXxBX4CvpW0Mu4Kq7CV9HRuCauwdfQ0XhCPAE/GXIhvkDHcc3c+39inS7Fl+huXBfX4evoa9wQN+Ab6NhAF+Mv8Re8cVPchG+io/GUeAp+OuRKfIWOk5q59//Eel2Lr9HR+Fv8DW/cErfgW+hu3Ba34dvo20ZH4464A99BR+MZ8Qz8bMiN+AYdpzVz7/+J9boV36KjcVfche+ir3FP3IPvoW8PXYyT4iR8El3mQu7Ed7h5VjP33vE+5Ef809flHj4SR/hNhI4RukS4cz4kJU7hhjnN3PvN9mZanMZtadxgvCBegF8MeRA/YP+8Zu5T2PMofsRO4yXxEvxyyJP4CTsXNXPvN2RCVsQrfW9l4P2t1ZCsOIudy5q59xv+hayJ17Azo5l7v2E9JCfOYeeqZu6z2P8sfsZbxhviDfi/IS/iF+xc18x9Dntexa/Yabwl3oK3HZviTbxl/CZ+k/8FUEsBAhQAFAAAAAgAgoPeVs03aPBIAgAAMAkAACUAAAAAAAAAAAAAAIABAAAAAGRhdGEvZjU1MjBjNWQxNzQ3NWU5MjIxOTM3YmQ3MTZmNTUxYjBQSwUGAAAAAAEAAQBTAAAAiwIAAAAA\"},\"axes\":{\"id\":\"1009\"},\"margin\":[5,5,5,5],\"orientation_widget\":true,\"scene\":{\"calls\":[[\"addRenderer\",[\"instance:${83fc3fc2-2ed2-492a-9738-4f0ad1ff607e0000021133542570}\"]],[\"addRenderer\",[\"instance:${83fc3fc2-2ed2-492a-9738-4f0ad1ff607e0000021133543210}\"]],[\"addRenderer\",[\"instance:${83fc3fc2-2ed2-492a-9738-4f0ad1ff607e0000021133541280}\"]]],\"dependencies\":[{\"calls\":[[\"setActiveCamera\",[\"instance:${00000211331c76a0}\"]],[\"addViewProp\",[\"instance:${83fc3fc2-2ed2-492a-9738-4f0ad1ff607e00000211333f4c30}\"]],[\"addViewProp\",[\"instance:${83fc3fc2-2ed2-492a-9738-4f0ad1ff607e00000211333f4e60}\"]]],\"dependencies\":[{\"id\":\"00000211331c76a0\",\"parent\":\"83fc3fc2-2ed2-492a-9738-4f0ad1ff607e0000021133542570\",\"properties\":{\"clippingRange\":[113.866120266889,392.62902012250385],\"focalPoint\":[68.99280885433086,56.8923087788457,407.9655],\"position\":[205.83942145028718,193.73892137480203,544.8121125959564],\"viewUp\":[0.0,0.0,1.0]},\"type\":\"vtkOpenGLCamera\"},{\"calls\":[[\"setMapper\",[\"instance:${83fc3fc2-2ed2-492a-9738-4f0ad1ff607e0000021134dec040}\"]],[\"setProperty\",[\"instance:${83fc3fc2-2ed2-492a-9738-4f0ad1ff607e00000211333f1e40}\"]]],\"dependencies\":[{\"calls\":[[\"setInputData\",[\"instance:${83fc3fc2-2ed2-492a-9738-4f0ad1ff607e0000021134dec040-dataset-0}\",0]],[\"setLookupTable\",[\"instance:${83fc3fc2-2ed2-492a-9738-4f0ad1ff607e0000021134deb0c0}\"]]],\"dependencies\":[{\"id\":\"83fc3fc2-2ed2-492a-9738-4f0ad1ff607e0000021134dec040-dataset-0\",\"parent\":\"83fc3fc2-2ed2-492a-9738-4f0ad1ff607e0000021134dec040\",\"properties\":{\"fields\":[{\"dataType\":\"Int32Array\",\"hash\":\"56ddc7efc29d7dfb0d59d10321298727\",\"location\":\"cellData\",\"name\":\"Boundary Marker\",\"numberOfComponents\":1,\"ranges\":[{\"component\":null,\"max\":0.0,\"min\":0.0}],\"registration\":\"setScalars\",\"size\":196,\"vtkClass\":\"vtkDataArray\"}],\"points\":{\"dataType\":\"Float64Array\",\"hash\":\"a9d067660b8feb26a0ca39dbdd7ddd45\",\"name\":\"Points\",\"numberOfComponents\":3,\"ranges\":[{\"component\":null,\"max\":189.65,\"min\":-32.2730769231},{\"component\":null,\"max\":189.815384615,\"min\":-34.8},{\"component\":null,\"max\":466.0,\"min\":380.0},{\"component\":null,\"max\":512.0294547191596,\"min\":381.24431931455285}],\"size\":3357,\"vtkClass\":\"vtkPoints\"},\"polys\":{\"dataType\":\"Uint32Array\",\"hash\":\"f5520c5d17475e9221937bd716f551b0\",\"name\":null,\"numberOfComponents\":1,\"ranges\":[{\"component\":null,\"max\":253.0,\"min\":0.0}],\"size\":588,\"vtkClass\":\"vtkCellArray\"}},\"type\":\"vtkPolyData\"},{\"arrays\":[{\"dataType\":\"Uint8Array\",\"hash\":\"ce52d598102e2756143cf4f27a0b5911\",\"name\":null,\"numberOfComponents\":4,\"ranges\":[{\"component\":null,\"max\":253.0,\"min\":30.0},{\"component\":null,\"max\":231.0,\"min\":1.0},{\"component\":null,\"max\":142.0,\"min\":24.0},{\"component\":null,\"max\":255.0,\"min\":255.0},{\"component\":null,\"max\":428.5918804643877,\"min\":276.95848064285735}],\"registration\":\"setTable\",\"size\":1024,\"vtkClass\":\"vtkDataArray\"}],\"id\":\"83fc3fc2-2ed2-492a-9738-4f0ad1ff607e0000021134deb0c0\",\"parent\":\"83fc3fc2-2ed2-492a-9738-4f0ad1ff607e0000021134dec040\",\"properties\":{\"aboveRangeColor\":[1.0,1.0,1.0,1.0],\"alpha\":1.0,\"belowRangeColor\":[0.0,0.0,0.0,1.0],\"hueRange\":[0.5,0],\"indexedLookup\":0,\"nanColor\":[0.6627450980392157,0.6627450980392157,0.6627450980392157,1.0],\"numberOfColors\":256,\"range\":[0.0,1.0],\"saturationRange\":[1.0,1.0],\"useAboveRangeColor\":false,\"useBelowRangeColor\":false,\"valueRange\":[0.0,1.0],\"vectorComponent\":0,\"vectorMode\":1,\"vectorSize\":-1},\"type\":\"vtkLookupTable\"}],\"id\":\"83fc3fc2-2ed2-492a-9738-4f0ad1ff607e0000021134dec040\",\"parent\":\"83fc3fc2-2ed2-492a-9738-4f0ad1ff607e00000211333f4c30\",\"properties\":{\"arrayAccessMode\":1,\"colorByArrayName\":null,\"colorMode\":1,\"interpolateScalarsBeforeMapping\":1,\"renderTime\":0.0,\"resolveCoincidentTopology\":0,\"scalarMode\":2,\"scalarRange\":[0.0,1.0],\"scalarVisibility\":1,\"useLookupTableScalarRange\":0},\"type\":\"vtkDataSetMapper\"},{\"id\":\"83fc3fc2-2ed2-492a-9738-4f0ad1ff607e00000211333f1e40\",\"parent\":\"83fc3fc2-2ed2-492a-9738-4f0ad1ff607e00000211333f4c30\",\"properties\":{\"ambient\":0.0,\"ambientColor\":[1.0,1.0,1.0],\"backfaceCulling\":0,\"color\":[1.0,1.0,1.0],\"diffuse\":1.0,\"diffuseColor\":[1.0,1.0,1.0],\"edgeColor\":[0.0,0.0,0.0],\"edgeVisibility\":0,\"frontfaceCulling\":0,\"interpolation\":0,\"lighting\":1,\"lineWidth\":0.10000000149011612,\"opacity\":1.0,\"pointSize\":5.0,\"representation\":1,\"specular\":0.0,\"specularColor\":[1.0,1.0,1.0],\"specularPower\":100.0},\"type\":\"vtkOpenGLProperty\"}],\"id\":\"83fc3fc2-2ed2-492a-9738-4f0ad1ff607e00000211333f4c30\",\"parent\":\"83fc3fc2-2ed2-492a-9738-4f0ad1ff607e0000021133542570\",\"properties\":{\"dragable\":1,\"forceOpaque\":false,\"forceTranslucent\":false,\"orientation\":[0.0,-0.0,0.0],\"origin\":[0.0,0.0,0.0],\"pickable\":1,\"position\":[0.0,0.0,0.0],\"scale\":[1.0,1.0,1.0],\"useBounds\":true,\"visibility\":1},\"type\":\"vtkOpenGLActor\"},{\"calls\":[[\"setMapper\",[\"instance:${83fc3fc2-2ed2-492a-9738-4f0ad1ff607e0000021134de8a00}\"]],[\"setProperty\",[\"instance:${83fc3fc2-2ed2-492a-9738-4f0ad1ff607e00000211333ed1b0}\"]]],\"dependencies\":[{\"calls\":[[\"setInputData\",[\"instance:${83fc3fc2-2ed2-492a-9738-4f0ad1ff607e0000021134de8a00-dataset-0}\",0]],[\"setLookupTable\",[\"instance:${83fc3fc2-2ed2-492a-9738-4f0ad1ff607e000002113f6c9000}\"]]],\"dependencies\":[{\"id\":\"83fc3fc2-2ed2-492a-9738-4f0ad1ff607e0000021134de8a00-dataset-0\",\"parent\":\"83fc3fc2-2ed2-492a-9738-4f0ad1ff607e0000021134de8a00\",\"properties\":{\"fields\":[],\"lines\":{\"dataType\":\"Uint32Array\",\"hash\":\"c6cc38d0ce9691fbcfec2dea61d638a4\",\"name\":null,\"numberOfComponents\":1,\"ranges\":[{\"component\":null,\"max\":31.0,\"min\":0.0}],\"size\":72,\"vtkClass\":\"vtkCellArray\"},\"points\":{\"dataType\":\"Float32Array\",\"hash\":\"d552bb024dc71c19d97745e2dd56aa11\",\"name\":\"Points\",\"numberOfComponents\":3,\"ranges\":[{\"component\":null,\"max\":106.15923309326172,\"min\":31.826385498046875},{\"component\":null,\"max\":96.8923110961914,\"min\":16.89230728149414},{\"component\":null,\"max\":435.9309997558594,\"min\":380.0},{\"component\":null,\"max\":459.013876989197,\"min\":381.7044260408342}],\"size\":96,\"vtkClass\":\"vtkPoints\"}},\"type\":\"vtkPolyData\"},{\"arrays\":[{\"dataType\":\"Uint8Array\",\"hash\":\"2ebda7d3c6c3627ba233a85b7027cd58\",\"name\":null,\"numberOfComponents\":4,\"ranges\":[{\"component\":null,\"max\":255.0,\"min\":0.0},{\"component\":null,\"max\":255.0,\"min\":0.0},{\"component\":null,\"max\":255.0,\"min\":0.0},{\"component\":null,\"max\":255.0,\"min\":255.0},{\"component\":null,\"max\":441.0963613542964,\"min\":360.62445840513925}],\"registration\":\"setTable\",\"size\":1024,\"vtkClass\":\"vtkDataArray\"}],\"id\":\"83fc3fc2-2ed2-492a-9738-4f0ad1ff607e000002113f6c9000\",\"parent\":\"83fc3fc2-2ed2-492a-9738-4f0ad1ff607e0000021134de8a00\",\"properties\":{\"aboveRangeColor\":[1.0,1.0,1.0,1.0],\"alpha\":1.0,\"belowRangeColor\":[0.0,0.0,0.0,1.0],\"hueRange\":[0.5,0],\"indexedLookup\":0,\"nanColor\":[0.5,0.0,0.0,1.0],\"numberOfColors\":256,\"range\":[0.0,1.0],\"saturationRange\":[1.0,1.0],\"useAboveRangeColor\":false,\"useBelowRangeColor\":false,\"valueRange\":[0.0,1.0],\"vectorComponent\":0,\"vectorMode\":1,\"vectorSize\":-1},\"type\":\"vtkLookupTable\"}],\"id\":\"83fc3fc2-2ed2-492a-9738-4f0ad1ff607e0000021134de8a00\",\"parent\":\"83fc3fc2-2ed2-492a-9738-4f0ad1ff607e00000211333f4e60\",\"properties\":{\"arrayAccessMode\":1,\"colorByArrayName\":null,\"colorMode\":0,\"interpolateScalarsBeforeMapping\":0,\"renderTime\":0.0,\"resolveCoincidentTopology\":0,\"scalarMode\":0,\"scalarRange\":[0.0,1.0],\"scalarVisibility\":1,\"useLookupTableScalarRange\":0},\"type\":\"vtkDataSetMapper\"},{\"id\":\"83fc3fc2-2ed2-492a-9738-4f0ad1ff607e00000211333ed1b0\",\"parent\":\"83fc3fc2-2ed2-492a-9738-4f0ad1ff607e00000211333f4e60\",\"properties\":{\"ambient\":0.0,\"ambientColor\":[0.0,0.0,0.0],\"backfaceCulling\":0,\"color\":[0.0,0.0,0.0],\"diffuse\":1.0,\"diffuseColor\":[0.0,0.0,0.0],\"edgeColor\":[0.0,0.0,0.0],\"edgeVisibility\":0,\"frontfaceCulling\":1,\"interpolation\":0,\"lighting\":1,\"lineWidth\":1.0,\"opacity\":1.0,\"pointSize\":5.0,\"representation\":2,\"specular\":0.0,\"specularColor\":[0.0,0.0,0.0],\"specularPower\":100.0},\"type\":\"vtkOpenGLProperty\"}],\"id\":\"83fc3fc2-2ed2-492a-9738-4f0ad1ff607e00000211333f4e60\",\"parent\":\"83fc3fc2-2ed2-492a-9738-4f0ad1ff607e0000021133542570\",\"properties\":{\"dragable\":1,\"forceOpaque\":false,\"forceTranslucent\":false,\"orientation\":[0.0,-0.0,0.0],\"origin\":[0.0,0.0,0.0],\"pickable\":0,\"position\":[0.0,0.0,0.0],\"scale\":[1.0,1.0,1.0],\"useBounds\":true,\"visibility\":1},\"type\":\"vtkOpenGLActor\"}],\"id\":\"83fc3fc2-2ed2-492a-9738-4f0ad1ff607e0000021133542570\",\"parent\":\"83fc3fc2-2ed2-492a-9738-4f0ad1ff607e0000021129687870\",\"properties\":{\"background\":[0.9333333333333333,0.9333333333333333,0.9333333333333333],\"background2\":[0.2,0.2,0.2],\"clippingRangeExpansion\":0.5,\"interactive\":1,\"layer\":0,\"lightFollowCamera\":1,\"maximumNumberOfPeels\":4,\"nearClippingPlaneTolerance\":0.001,\"occlusionRatio\":0.0,\"preserveColorBuffer\":0,\"preserveDepthBuffer\":0,\"twoSidedLighting\":1,\"useDepthPeeling\":0,\"useShadows\":0,\"viewport\":[0.0,0.0,1.0,1.0]},\"type\":\"vtkOpenGLRenderer\"},{\"calls\":[[\"setActiveCamera\",[\"instance:${00000211331c42e0}\"]]],\"dependencies\":[{\"id\":\"00000211331c42e0\",\"parent\":\"83fc3fc2-2ed2-492a-9738-4f0ad1ff607e0000021133543210\",\"properties\":{\"clippingRange\":[0.01,1000.01],\"focalPoint\":[0.0,0.0,0.0],\"position\":[0.0,0.0,1.0],\"viewUp\":[0.0,1.0,0.0]},\"type\":\"vtkOpenGLCamera\"}],\"id\":\"83fc3fc2-2ed2-492a-9738-4f0ad1ff607e0000021133543210\",\"parent\":\"83fc3fc2-2ed2-492a-9738-4f0ad1ff607e0000021129687870\",\"properties\":{\"background\":[0.9333333333333333,0.9333333333333333,0.9333333333333333],\"background2\":[0.2,0.2,0.2],\"clippingRangeExpansion\":0.5,\"interactive\":0,\"layer\":1,\"lightFollowCamera\":1,\"maximumNumberOfPeels\":4,\"nearClippingPlaneTolerance\":0.0,\"occlusionRatio\":0.0,\"preserveColorBuffer\":1,\"preserveDepthBuffer\":0,\"twoSidedLighting\":1,\"useDepthPeeling\":0,\"useShadows\":0,\"viewport\":[0.0,0.0,1.0,1.0]},\"type\":\"vtkOpenGLRenderer\"},{\"calls\":[[\"setActiveCamera\",[\"instance:${00000211331c2060}\"]]],\"dependencies\":[{\"id\":\"00000211331c2060\",\"parent\":\"83fc3fc2-2ed2-492a-9738-4f0ad1ff607e0000021133541280\",\"properties\":{\"clippingRange\":[3.1784280185413736,11.13129965931104],\"focalPoint\":[0.0,0.0,0.0],\"position\":[3.8637033051562737,3.8637033051562746,3.8637033051562746],\"viewUp\":[0.0,0.0,1.0]},\"type\":\"vtkOpenGLCamera\"}],\"id\":\"83fc3fc2-2ed2-492a-9738-4f0ad1ff607e0000021133541280\",\"parent\":\"83fc3fc2-2ed2-492a-9738-4f0ad1ff607e0000021129687870\",\"properties\":{\"background\":[0.0,0.0,0.0],\"background2\":[0.2,0.2,0.2],\"clippingRangeExpansion\":0.5,\"interactive\":0,\"layer\":1,\"lightFollowCamera\":1,\"maximumNumberOfPeels\":4,\"nearClippingPlaneTolerance\":0.001,\"occlusionRatio\":0.0,\"preserveColorBuffer\":1,\"preserveDepthBuffer\":0,\"twoSidedLighting\":1,\"useDepthPeeling\":0,\"useShadows\":0,\"viewport\":[0.0,0.0,0.2,0.2]},\"type\":\"vtkOpenGLRenderer\"}],\"id\":\"83fc3fc2-2ed2-492a-9738-4f0ad1ff607e0000021129687870\",\"mtime\":2567475,\"parent\":\"83fc3fc2-2ed2-492a-9738-4f0ad1ff607e0x0\",\"properties\":{\"numberOfLayers\":2},\"type\":\"vtkWin32OpenGLRenderWindow\"},\"sizing_mode\":\"stretch_width\"},\"id\":\"1010\",\"type\":\"panel.models.vtk.VTKSynchronizedPlot\"}],\"root_ids\":[\"1010\",\"1011\",\"1012\"]},\"title\":\"Bokeh Application\",\"version\":\"2.4.3\"}};\n",
       "    var render_items = [{\"docid\":\"f9120d8e-c730-4acc-9258-0e717f69d015\",\"root_ids\":[\"1010\"],\"roots\":{\"1010\":\"1ec1d24e-aadb-4378-807b-02aae1551c0d\"}}];\n",
       "    root.Bokeh.embed.embed_items_notebook(docs_json, render_items);\n",
       "    for (const render_item of render_items) {\n",
       "      for (const root_id of render_item.root_ids) {\n",
       "\tconst id_el = document.getElementById(root_id)\n",
       "\tif (id_el.children.length && (id_el.children[0].className === 'bk-root')) {\n",
       "\t  const root_el = id_el.children[0]\n",
       "\t  root_el.id = root_el.id + '-rendered'\n",
       "\t}\n",
       "      }\n",
       "    }\n",
       "  }\n",
       "  if (root.Bokeh !== undefined && root.Bokeh.Panel !== undefined && ( root['vtk'] !== undefined)) {\n",
       "    embed_document(root);\n",
       "  } else {\n",
       "    var attempts = 0;\n",
       "    var timer = setInterval(function(root) {\n",
       "      if (root.Bokeh !== undefined && root.Bokeh.Panel !== undefined && (root['vtk'] !== undefined)) {\n",
       "        clearInterval(timer);\n",
       "        embed_document(root);\n",
       "      } else if (document.readyState == \"complete\") {\n",
       "        attempts++;\n",
       "        if (attempts > 200) {\n",
       "          clearInterval(timer);\n",
       "          console.log(\"Bokeh: ERROR: Unable to run BokehJS code because BokehJS library is missing\");\n",
       "        }\n",
       "      }\n",
       "    }, 25, root)\n",
       "  }\n",
       "})(window);</script>"
      ],
      "text/plain": [
       "VTKRenderWindowSynchronized(vtkWin32OpenGLRenderWindow, axes={'xticker': {'ticks': arra...}, orientation_widget=True, sizing_mode='stretch_width')"
      ]
     },
     "metadata": {
      "application/vnd.holoviews_exec.v0+json": {
       "id": "1010"
      }
     },
     "output_type": "display_data"
    },
    {
     "data": {
      "text/plain": [
       "(<pyvista.plotting.plotting.Plotter at 0x2117f284850>, None)"
      ]
     },
     "execution_count": 16,
     "metadata": {},
     "output_type": "execute_result"
    }
   ],
   "source": [
    "pg.show(dia, style='wireframe')"
   ]
  },
  {
   "cell_type": "code",
   "execution_count": 12,
   "id": "cade8da2-5727-47e7-8f05-d91977b888d4",
   "metadata": {
    "tags": []
   },
   "outputs": [],
   "source": [
    "pl, _ = pg.show(mesh, style=\"surface\", cMap=c_mag, hold=True, notebook=False, alpha=0.3)\n",
    "pv.drawMesh(pl, mesh, label=\"res_lim\", style=\"surface\", cMap=c_ert, alpha=1,\n",
    "            filter={\"threshold\": dict(value=300, scalars='res_lim')})\n",
    "pv.drawMesh(pl, mesh, label=\"sus\", style=\"surface\", cMap=c_mag, alpha=.8,\n",
    "            filter={\"threshold\": dict(value=0.12, scalars=\"sus\")})\n",
    "\n",
    "\n",
    "# AZdrawSlice_along_line(pl, mesh, cmap=c_mag, pnts=p2, data=mesh[\"sus\"], label=\"sus\")\n",
    "\n",
    "pv.drawSensors(pl, p1, diam=.5, color='darkolivegreen')\n",
    "pv.drawSensors(pl, p2, diam=.5, color='limegreen')\n",
    "pv.drawSensors(pl, p3, diam=.5, color='springgreen')\n",
    "pv.drawSensors(pl, p4, diam=.5, color='aquamarine')\n",
    "pv.drawSensors(pl, pnts, diam=.5, color='blue')\n",
    "\n",
    "pl.show()"
   ]
  },
  {
   "cell_type": "code",
   "execution_count": null,
   "id": "4dc25b56-e626-46c6-ba1d-6293e8e2dabc",
   "metadata": {},
   "outputs": [
    {
     "data": {
      "text/plain": [
       "5569391.192"
      ]
     },
     "execution_count": 28,
     "metadata": {},
     "output_type": "execute_result"
    }
   ],
   "source": [
    "pnts[0][1]\n",
    "\n"
   ]
  },
  {
   "cell_type": "code",
   "execution_count": null,
   "id": "9b80a965-47bc-4cf6-92f3-0951636e5984",
   "metadata": {},
   "outputs": [],
   "source": []
  }
 ],
 "metadata": {
  "kernelspec": {
   "display_name": "Python 3 (ipykernel)",
   "language": "python",
   "name": "python3"
  },
  "language_info": {
   "codemirror_mode": {
    "name": "ipython",
    "version": 3
   },
   "file_extension": ".py",
   "mimetype": "text/x-python",
   "name": "python",
   "nbconvert_exporter": "python",
   "pygments_lexer": "ipython3",
   "version": "3.9.16"
  }
 },
 "nbformat": 4,
 "nbformat_minor": 5
}
