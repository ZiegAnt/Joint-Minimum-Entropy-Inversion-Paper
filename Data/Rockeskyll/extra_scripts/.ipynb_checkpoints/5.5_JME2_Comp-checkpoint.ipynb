{
 "cells": [
  {
   "cell_type": "code",
   "execution_count": 1,
   "id": "63b2bae6-9119-49cb-a16e-4a9a23745ff9",
   "metadata": {},
   "outputs": [],
   "source": [
    "# %% IMPORTS\n",
    "import numpy             as np\n",
    "import matplotlib.pyplot as plt\n",
    "import pandas            as pd\n",
    "import pygimli           as pg\n",
    "import pygimli.meshtools as mt\n",
    "import cmasher           as cmr\n",
    "import pyvista           as pyv\n",
    "import functools\n",
    "import sys\n",
    "\n",
    "from mpl_toolkits               import mplot3d\n",
    "from mpl_toolkits.mplot3d       import Axes3D\n",
    "from pygimli.viewer             import pv\n",
    "from PlotFunctions_Ch5          import *\n",
    "\n",
    "%matplotlib qt"
   ]
  },
  {
   "cell_type": "code",
   "execution_count": 2,
   "id": "0743928d-3c39-4b2b-aa2f-61225812ae0e",
   "metadata": {},
   "outputs": [],
   "source": [
    "# %% Filenames\n",
    "fig_dir = 'C:/Users/azieg/Desktop/GIT_repositories/APG-MSc-Project-Ziegon/Figures/Ch-5/'\n",
    "fn_dir  = 'C:/Users/azieg/Desktop/GIT_repositories/APG-MSc-Project-Ziegon/Data/Rockeskyll/'\n",
    "\n",
    "fn_magnetic = 'Magnetic_data_corrected.csv'\n",
    "\n",
    "fn_all = 'ert_data_rockes_all'\n",
    "geo1 ='Geo/2023_ERTL1_Locations.csv'\n",
    "geo2 ='Geo/2023_ERTL2_Locations.csv'\n",
    "geo3 ='Geo/2023_ERTL3_Locations.csv'\n",
    "geo4 ='Geo/2023_ERTL4_Locations.csv'\n",
    "\n",
    "\n",
    "# Results JME2_1\n",
    "JME1 = 'JME2_1'\n",
    "fn_sus_jme1 = 'Res_'+JME1+'/sus_jme.npy'\n",
    "fn_res_jme1 = 'Res_'+JME1+'/res_jme.npy'\n",
    "fn_misfit_mag_jme1 = 'Res_'+JME1+'/misfit_mag_jme.npy'\n",
    "fn_misfit_ert_jme1 = 'Res_'+JME1+'/misfit_ert_jme.npy'\n",
    "\n",
    "# Results JME2_2\n",
    "JME1 = 'JME2_2'\n",
    "fn_sus_jme2 = 'Res_'+JME1+'/sus_jme.npy'\n",
    "fn_res_jme2 = 'Res_'+JME1+'/res_jme.npy'\n",
    "fn_misfit_mag_jme2 = 'Res_'+JME1+'/misfit_mag_jme.npy'\n",
    "fn_misfit_ert_jme2 = 'Res_'+JME1+'/misfit_ert_jme.npy'\n",
    "\n",
    "# Results JME2_3\n",
    "JME1 = 'JME2_3'\n",
    "fn_sus_jme3 = 'Res_'+JME1+'/sus_jme.npy'\n",
    "fn_res_jme3 = 'Res_'+JME1+'/res_jme.npy'\n",
    "fn_misfit_mag_jme3 = 'Res_'+JME1+'/misfit_mag_jme.npy'\n",
    "fn_misfit_ert_jme3 = 'Res_'+JME1+'/misfit_ert_jme.npy'\n",
    "\n",
    "# Results JME2_4\n",
    "JME1 = 'JME2_4'\n",
    "fn_sus_jme4 = 'Res_'+JME1+'/sus_jme.npy'\n",
    "fn_res_jme4 = 'Res_'+JME1+'/res_jme.npy'\n",
    "fn_misfit_mag_jme4 = 'Res_'+JME1+'/misfit_mag_jme.npy'\n",
    "fn_misfit_ert_jme4 = 'Res_'+JME1+'/misfit_ert_jme.npy'\n",
    "\n",
    "# Results JME2_5\n",
    "JME1 = 'JME1_5'\n",
    "fn_sus_jme5 = 'Res_'+JME1+'/sus_jme.npy'\n",
    "fn_res_jme5 = 'Res_'+JME1+'/res_jme.npy'\n",
    "fn_misfit_mag_jme5 = 'Res_'+JME1+'/misfit_mag_jme.npy'\n",
    "fn_misfit_ert_jme5 = 'Res_'+JME1+'/misfit_ert_jme.npy'\n",
    "\n",
    "# Plotting\n",
    "c_ert = 'gnuplot'\n",
    "c_mag = cmr.tropical\n",
    "\n",
    "lim_ert = [20,400]\n",
    "lim_mag =[0,0.15]"
   ]
  },
  {
   "cell_type": "markdown",
   "id": "83229eac-06ef-4bbe-aaec-dec3ad0191c5",
   "metadata": {},
   "source": [
    "## Load Geometries and Meshes"
   ]
  },
  {
   "cell_type": "code",
   "execution_count": 3,
   "id": "953c072b-d39f-4789-aef0-f38e33786f19",
   "metadata": {},
   "outputs": [],
   "source": [
    "df = pd.read_csv(fn_dir+fn_magnetic, delimiter=',', decimal='.')\n",
    "pnts = np.array([[df['X'][i], df['Y'][i], df['Z'][i]] for i in range(len(df))])\n",
    "\n",
    "df1 = pd.read_csv(fn_dir+geo1, delimiter=',', decimal='.')\n",
    "p1 = np.array([[df1['X'][i], df1['Y'][i], df1['Z'][i]] for i in range(len(df1))])\n",
    "\n",
    "df2 = pd.read_csv(fn_dir+geo2, delimiter=',', decimal='.')\n",
    "p2 = np.array([[df2['X'][i], df2['Y'][i], df2['Z'][i]] for i in range(len(df2))])\n",
    "\n",
    "df3 = pd.read_csv(fn_dir+geo3, delimiter=',', decimal='.')\n",
    "p3 = np.array([[df3['X'][i], df3['Y'][i], df3['Z'][i]] for i in range(len(df3))])\n",
    "p3 = p3[:-1,:] # This array has one electrode too much :(\n",
    "\n",
    "df4 = pd.read_csv(fn_dir+geo4, delimiter=',', decimal='.')\n",
    "p4 = np.array([[df4['X'][i], df4['Y'][i], df4['Z'][i]] for i in range(len(df4))])\n",
    "\n",
    "mesh = pg.load(fn_dir+'invmesh.bms')\n",
    "m2d1 = pg.load(fn_dir+'mesh_2d1.bms')\n",
    "m2d2 = pg.load(fn_dir+'mesh_2d2.bms')\n",
    "m2d3 = pg.load(fn_dir+'mesh_2d3.bms')\n",
    "m2d4 = pg.load(fn_dir+'mesh_2d4.bms')\n",
    "\n",
    "#Coverage \n",
    "cov1 = np.load(fn_dir+'Res_Conventional/cov1.npy')\n",
    "cov2 = np.load(fn_dir+'Res_Conventional/cov2.npy')\n",
    "cov3 = np.load(fn_dir+'Res_Conventional/cov3.npy')\n",
    "cov4 = np.load(fn_dir+'Res_Conventional/cov4.npy')"
   ]
  },
  {
   "cell_type": "markdown",
   "id": "040552cb-2dfd-4666-845c-de515d5c172c",
   "metadata": {},
   "source": [
    "## Load Results"
   ]
  },
  {
   "cell_type": "code",
   "execution_count": 4,
   "id": "4044c178-3690-4a86-be1b-8d1b0b6d0796",
   "metadata": {},
   "outputs": [],
   "source": [
    "res_jme1 = np.load(fn_dir+fn_res_jme1)\n",
    "sus_jme1 = np.load(fn_dir+fn_sus_jme1)\n",
    "\n",
    "res_jme2 = np.load(fn_dir+fn_res_jme2)\n",
    "sus_jme2 = np.load(fn_dir+fn_sus_jme2)\n",
    "\n",
    "res_jme3 = np.load(fn_dir+fn_res_jme3)\n",
    "sus_jme3 = np.load(fn_dir+fn_sus_jme3)\n",
    "\n",
    "res_jme4 = np.load(fn_dir+fn_res_jme4)\n",
    "sus_jme4 = np.load(fn_dir+fn_sus_jme4)\n",
    "\n",
    "res_jme5 = np.load(fn_dir+fn_res_jme5)\n",
    "sus_jme5 = np.load(fn_dir+fn_sus_jme5)"
   ]
  },
  {
   "cell_type": "markdown",
   "id": "9e842f87-84d9-4004-aea2-546a2fbaf627",
   "metadata": {},
   "source": [
    "## Load Misfit"
   ]
  },
  {
   "cell_type": "code",
   "execution_count": 5,
   "id": "2e4cbc11-3890-45ec-b3fa-3e93d6f5277d",
   "metadata": {},
   "outputs": [],
   "source": [
    "misfit_mag_jme1 = np.load(fn_dir+fn_misfit_mag_jme1)\n",
    "misfit_ert_jme1 = np.load(fn_dir+fn_misfit_ert_jme1)\n",
    "\n",
    "misfit_mag_jme2 = np.load(fn_dir+fn_misfit_mag_jme2)\n",
    "misfit_ert_jme2 = np.load(fn_dir+fn_misfit_ert_jme2)\n",
    "\n",
    "misfit_mag_jme3 = np.load(fn_dir+fn_misfit_mag_jme3)\n",
    "misfit_ert_jme3 = np.load(fn_dir+fn_misfit_ert_jme3)\n",
    "\n",
    "misfit_mag_jme4 = np.load(fn_dir+fn_misfit_mag_jme4)\n",
    "misfit_ert_jme4 = np.load(fn_dir+fn_misfit_ert_jme4)\n",
    "\n",
    "misfit_mag_jme5 = np.load(fn_dir+fn_misfit_mag_jme5)\n",
    "misfit_ert_jme5 = np.load(fn_dir+fn_misfit_ert_jme5)"
   ]
  },
  {
   "cell_type": "markdown",
   "id": "f2272523-043a-4bac-b7ff-be676c366e2e",
   "metadata": {},
   "source": [
    "## Interpolate 2D Sections !!!Change to nearest instead of linear!!!"
   ]
  },
  {
   "cell_type": "markdown",
   "id": "69f3071c-b7f7-4f55-9bd4-6a0b21507e2c",
   "metadata": {},
   "source": [
    "### Load indices (if they already exist)"
   ]
  },
  {
   "cell_type": "code",
   "execution_count": 6,
   "id": "e3a138df-f647-462d-8d46-b4cae48dc939",
   "metadata": {},
   "outputs": [],
   "source": [
    "idx1 = np.load(fn_dir+'int_ind1.npy')\n",
    "idx2 = np.load(fn_dir+'int_ind2.npy')\n",
    "idx3 = np.load(fn_dir+'int_ind3.npy')\n",
    "idx4 = np.load(fn_dir+'int_ind4.npy')\n",
    "idx_all_list = [idx1,idx2,idx3,idx4]"
   ]
  },
  {
   "cell_type": "markdown",
   "id": "53106a93-90be-4fd3-89f5-081cd5f88f92",
   "metadata": {},
   "source": [
    "### Interpolate data to 2D section (linear and nearest neighbour method)"
   ]
  },
  {
   "cell_type": "code",
   "execution_count": 7,
   "id": "ca8523b2-6842-472b-bcf6-537ff2e11e6c",
   "metadata": {},
   "outputs": [],
   "source": [
    "def Transfer3DdataTo2DSection(data, int_idx_all, x=1):\n",
    "    data_intnn = []\n",
    "    for int_idx in int_idx_all:\n",
    "        d_int = []\n",
    "        for i in int_idx:\n",
    "            if np.isnan(i):\n",
    "                d_int.append(x)\n",
    "            else:\n",
    "                d_int.append(data[int(i)])\n",
    "        data_intnn.append(np.array(d_int))\n",
    "    return data_intnn"
   ]
  },
  {
   "cell_type": "code",
   "execution_count": 8,
   "id": "a310caab-4602-4533-9dd0-09b48000e59f",
   "metadata": {
    "scrolled": true,
    "tags": []
   },
   "outputs": [],
   "source": [
    "p_list = [p1,p2,p3,p4]\n",
    "m_list = [m2d1,m2d2,m2d3,m2d4]\n",
    "\n",
    "# With nearest neighbour interpolation\n",
    "res_jme1_int_nn = Transfer3DdataTo2DSection(res_jme1, idx_all_list, x=30)\n",
    "sus_jme1_int_nn = Transfer3DdataTo2DSection(sus_jme1, idx_all_list, x=0.01)\n",
    "\n",
    "res_jme2_int_nn = Transfer3DdataTo2DSection(res_jme2, idx_all_list, x=30)\n",
    "sus_jme2_int_nn = Transfer3DdataTo2DSection(sus_jme2, idx_all_list, x=0.01)\n",
    "\n",
    "res_jme3_int_nn = Transfer3DdataTo2DSection(res_jme3, idx_all_list, x=30)\n",
    "sus_jme3_int_nn = Transfer3DdataTo2DSection(sus_jme3, idx_all_list, x=0.01)\n",
    "\n",
    "res_jme4_int_nn = Transfer3DdataTo2DSection(res_jme4, idx_all_list, x=30)\n",
    "sus_jme4_int_nn = Transfer3DdataTo2DSection(sus_jme4, idx_all_list, x=0.01)\n",
    "\n",
    "res_jme5_int_nn = Transfer3DdataTo2DSection(res_jme5, idx_all_list, x=30)\n",
    "sus_jme5_int_nn = Transfer3DdataTo2DSection(sus_jme5, idx_all_list, x=0.01)"
   ]
  },
  {
   "cell_type": "markdown",
   "id": "f8e1c89e-4832-435f-8492-72e54942bf59",
   "metadata": {},
   "source": [
    "## Inspect Models"
   ]
  },
  {
   "cell_type": "markdown",
   "id": "8deaaf78-0428-4275-9127-8bf508fb5c82",
   "metadata": {
    "tags": []
   },
   "source": [
    "### Show different inversion results"
   ]
  },
  {
   "cell_type": "code",
   "execution_count": 9,
   "id": "4a41a0c3-c7cc-4cd6-8952-f9eca6120904",
   "metadata": {},
   "outputs": [],
   "source": [
    "l1_2 = mt.createPolygon([[51,419],[45,425],[36,430],[40,435],[43,442],[49,439],[54,441],[63,433],[77,435],[85,425],[75,417],[65,423]],\n",
    "                      isClosed=True, addNodes=5, interpolate='spline')\n",
    "\n",
    "l2_2 = mt.createPolygon([[48,422],[40,420],[35,429],[44,437],[60,441],[66,435],[82,437],[86,430],[75,418],[67,420],[60,417]],\n",
    "                      isClosed=True, addNodes=5, interpolate='spline')\n",
    "\n",
    "l3_2 = mt.createPolygon([[40,425],[45,431],[50,435],[54,428],[47,420],[47,423]],isClosed=True, addNodes=5, interpolate='spline') + mt.createPolygon([[64,437],[70,439],[73,433],[72,430],[66,434]],isClosed=True, addNodes=5, interpolate='spline')\n",
    "\n",
    "l4_2 = mt.createPolygon([[74,433],[72,441],[78,437],[85,438],[90,433],[98,432],[100,428],[96,421],[94,418],[80,419],[73,428]],\n",
    "                      isClosed=True, addNodes=5, interpolate='spline')"
   ]
  },
  {
   "cell_type": "code",
   "execution_count": 10,
   "id": "723df4f2-b072-4c31-bef4-113032179adf",
   "metadata": {},
   "outputs": [],
   "source": [
    "%matplotlib qt\n",
    "cov_list = [cov1, cov2, cov3, cov4]\n",
    "j = 1\n",
    "\n",
    "lines = [l1_2,l2_2,l3_2,l4_2]\n",
    "\n",
    "for j in [0,1,2,3]:\n",
    "\n",
    "    ert_start = pg.Vector(m_list[j].cellCount(), 67.413)\n",
    "    mag_start = pg.Vector(m_list[j].cellCount(), 1e-4)\n",
    "\n",
    "\n",
    "    fig, ax, [cax1, cax2] = plotJointResultsComparison(m_list[j], cov_list[j],\n",
    "                                                       [res_jme1_int_nn[j],res_jme3_int_nn[j],res_jme2_int_nn[j],res_jme4_int_nn[j],res_jme5_int_nn[j]], \n",
    "                                                       [sus_jme1_int_nn[j],sus_jme3_int_nn[j],sus_jme2_int_nn[j],sus_jme4_int_nn[j],sus_jme5_int_nn[j]],\n",
    "                                                       c_ert, c_mag, lim_ert, lim_mag, ['JME11','JME12','JME13','JME14','JME5'], \n",
    "                                                       figsize=(9,8))\n",
    "\n",
    "    ax[0,0].text(1, 414, 'mw = [3,1]', fontsize=7, bbox={'facecolor': 'white', 'alpha': 0.8, 'pad': 5})\n",
    "    ax[1,0].text(1, 414, r'higher $a_{ERT}$', fontsize=7, bbox={'facecolor': 'white', 'alpha': 0.8, 'pad': 5})\n",
    "    ax[2,0].text(1, 414, 'mw = [1,1]', fontsize=7, bbox={'facecolor': 'white', 'alpha': 0.8, 'pad': 5})\n",
    "    ax[3,0].text(1, 414, 'mw = [10,1]', fontsize=7, bbox={'facecolor': 'white', 'alpha': 0.8, 'pad': 5})\n",
    "    ax[4,0].text(1, 414, 'mw = [100,1]', fontsize=7, bbox={'facecolor': 'white', 'alpha': 0.8, 'pad': 5})\n",
    "\n",
    "    ax[0,1].text(1, 414, 'mw = [3,1]', fontsize=7, bbox={'facecolor': 'white', 'alpha': 0.8, 'pad': 5})\n",
    "    ax[1,1].text(1, 414, 'higher $a_{ERT}$', fontsize=7, bbox={'facecolor': 'white', 'alpha': 0.8, 'pad': 5})\n",
    "    ax[2,1].text(1, 414, 'mw = [1,1]', fontsize=7, bbox={'facecolor': 'white', 'alpha': 0.8, 'pad': 5})\n",
    "    ax[3,1].text(1, 414, 'mw = [10,1]', fontsize=7, bbox={'facecolor': 'white', 'alpha': 0.8, 'pad': 5})\n",
    "    ax[4,1].text(1, 414, 'mw = [100,1]', fontsize=7, bbox={'facecolor': 'white', 'alpha': 0.8, 'pad': 5})\n",
    "    # fig.delaxes(ax[0,1])\n",
    "    ax[0,1].set_title('MAG Results', fontsize = 14)\n",
    "\n",
    "    for a in ax:\n",
    "        for axis in a:\n",
    "            pg.show(lines[j],ax=axis, fillRegion=False)\n",
    "            axis.set_ylim(408,455)"
   ]
  },
  {
   "cell_type": "markdown",
   "id": "97fb2a91-7820-49b9-bf13-06fc7bbbd345",
   "metadata": {},
   "source": [
    "### Show misfits for different methods"
   ]
  },
  {
   "cell_type": "code",
   "execution_count": 44,
   "id": "478756dd-0291-407a-a41f-4a4a767471b1",
   "metadata": {},
   "outputs": [
    {
     "name": "stderr",
     "output_type": "stream",
     "text": [
      "C:\\Users\\azieg\\Desktop\\GIT_repositories\\APG-MSc-Project-Ziegon\\Code\\PlotFunctions_Ch5.py:59: UserWarning: The following kwargs were not used by contour: 's', 'edgecolors', 'marker'\n",
      "  im = ax.tricontourf(x_new[idx_list[i]:idx_list[i+1]],\n"
     ]
    },
    {
     "data": {
      "text/plain": [
       "Text(0.5, 1.0, 'MAG')"
      ]
     },
     "execution_count": 44,
     "metadata": {},
     "output_type": "execute_result"
    }
   ],
   "source": [
    "%matplotlib qt\n",
    "lim_max = 20\n",
    "lim = [-lim_max,lim_max] # Misfit limits\n",
    "label_list = ['mw = [3,1]',r'higher $a_{ERT}$', 'mw = [1,1]','mw = [10,1]','mw = [100,1]']\n",
    "mag_misfit = [misfit_mag_jme1,misfit_mag_jme3,misfit_mag_jme2,misfit_mag_jme4,misfit_mag_jme5]\n",
    "ert_misfit = [misfit_ert_jme1,misfit_ert_jme3,misfit_ert_jme2,misfit_ert_jme4,misfit_ert_jme5]\n",
    "\n",
    "cmap='coolwarm'\n",
    "\n",
    "from pygimli.physics            import ert\n",
    "ert_data    = ert.load(fn_dir+fn_all)\n",
    "\n",
    "fig, ax = plt.subplots(len(label_list),2, figsize=(12,12), gridspec_kw={'width_ratios': [3, 1]})\n",
    "\n",
    "for i in range(len(label_list)):\n",
    "    # Plot misfits\n",
    "    showPseudosections(ert_data, ert_misfit[i], [0, 2055, 4134, 5906, 7694], 4, ax=ax[i,0], clim=lim, cmap=cmap, Type='misfit', \n",
    "                       annotation=False, colorBar=False)\n",
    "    \n",
    "    showMagMisfit(pnts, 'misfit', mag_misfit[i], ax[i,1], lim=lim_max)\n",
    "    \n",
    "    # Add labels\n",
    "    ax[i,0].text(6, 50, label_list[i], fontsize=10, bbox={'facecolor': 'white', 'alpha': 0.8, 'pad': 5})\n",
    "    ax[i,1].text(2549030, 5569322, label_list[i], fontsize=10, bbox={'facecolor': 'white', 'alpha': 0.8, 'pad': 5})\n",
    "\n",
    "# Adjust axes\n",
    "for ax_ar in ax[:-1,:]:\n",
    "    for axis in ax_ar:\n",
    "        axis.set_xticks([])  \n",
    "        axis.set_xlabel('')\n",
    "\n",
    "# Add colorbar\n",
    "cax = ax[-1,0].inset_axes([0.33, -0.4, 0.67, 0.1])\n",
    "createColorBarOnly(ax=cax, cMin=lim[0], cMax=lim[1], logScale=False,cMap=cmap,\n",
    "                   label='Misfit (%)', orientation='horizontal')\n",
    "\n",
    "fig.suptitle(f'Misfit',fontsize=16, x=.51, y=.92)\n",
    "ax[0,0].set_title('ERT')\n",
    "ax[0,1].set_title('MAG')\n",
    "# fig.delaxes(ax[0,1])\n",
    "\n",
    "\n",
    "# plt.savefig(f'C:/Users/azieg/Desktop/GIT_repositories/APG-MSc-Project-Ziegon/Figures/Ch-4/Without_Sense/Best_misfit_comp_{q}.pdf', \n",
    "#             bbox_inches='tight',\n",
    "#             dpi=600)"
   ]
  },
  {
   "cell_type": "code",
   "execution_count": null,
   "id": "5446f12a-6d4c-4feb-9bd0-04a61c7dea93",
   "metadata": {},
   "outputs": [],
   "source": [
    "%matplotlib widget\n",
    "res = res_jme1\n",
    "sus = sus_jme1\n",
    "\n",
    "mesh['sus'] = sus\n",
    "mesh['res'] = res\n",
    "\n",
    "res_lim= res.copy()\n",
    "\n",
    "for i, r in enumerate(res_lim):\n",
    "    if r<10:\n",
    "        res_lim[i] = 10\n",
    "    elif r>500:\n",
    "        res_lim[i] = 500\n",
    "\n",
    "mesh['res_lim'] = res_lim"
   ]
  },
  {
   "cell_type": "code",
   "execution_count": null,
   "id": "cade8da2-5727-47e7-8f05-d91977b888d4",
   "metadata": {
    "tags": []
   },
   "outputs": [],
   "source": [
    "pl, _ = pg.show(mesh, style=\"surface\", cMap=c_mag, hold=True, notebook=False, alpha=0.3)\n",
    "pv.drawMesh(pl, mesh, label=\"res_lim\", style=\"surface\", cMap=c_ert, alpha=1,\n",
    "            filter={\"threshold\": dict(value=150, scalars='res_lim')})\n",
    "pv.drawMesh(pl, mesh, label=\"sus\", style=\"surface\", cMap=c_mag, alpha=.8,\n",
    "            filter={\"threshold\": dict(value=0.12, scalars=\"sus\")})\n",
    "\n",
    "# AZdrawSlice_along_line(pl, mesh, cmap=c_mag, pnts=p1, data=mesh[\"sus\"], label=\"sus\")\n",
    "AZdrawSlice_along_line(pl, mesh, cmap=c_mag, pnts=p2, data=mesh[\"sus\"], label=\"sus\")\n",
    "# AZdrawSlice_along_line(pl, mesh, cmap=c_mag, pnts=p4, data=mesh[\"sus\"], label=\"sus\")\n",
    "\n",
    "pv.drawSensors(pl, p1, diam=.5, color='darkolivegreen')\n",
    "pv.drawSensors(pl, p2, diam=.5, color='limegreen')\n",
    "pv.drawSensors(pl, p3, diam=.5, color='springgreen')\n",
    "pv.drawSensors(pl, p4, diam=.5, color='aquamarine')\n",
    "pv.drawSensors(pl, pnts, diam=.5, color='blue')\n",
    "\n",
    "pl.show()"
   ]
  },
  {
   "cell_type": "code",
   "execution_count": null,
   "id": "4dc25b56-e626-46c6-ba1d-6293e8e2dabc",
   "metadata": {},
   "outputs": [
    {
     "data": {
      "text/plain": [
       "5569391.192"
      ]
     },
     "execution_count": 28,
     "metadata": {},
     "output_type": "execute_result"
    }
   ],
   "source": [
    "pnts[0][1]\n",
    "\n"
   ]
  },
  {
   "cell_type": "code",
   "execution_count": null,
   "id": "9b80a965-47bc-4cf6-92f3-0951636e5984",
   "metadata": {},
   "outputs": [],
   "source": []
  }
 ],
 "metadata": {
  "kernelspec": {
   "display_name": "Python 3 (ipykernel)",
   "language": "python",
   "name": "python3"
  },
  "language_info": {
   "codemirror_mode": {
    "name": "ipython",
    "version": 3
   },
   "file_extension": ".py",
   "mimetype": "text/x-python",
   "name": "python",
   "nbconvert_exporter": "python",
   "pygments_lexer": "ipython3",
   "version": "3.9.16"
  }
 },
 "nbformat": 4,
 "nbformat_minor": 5
}
