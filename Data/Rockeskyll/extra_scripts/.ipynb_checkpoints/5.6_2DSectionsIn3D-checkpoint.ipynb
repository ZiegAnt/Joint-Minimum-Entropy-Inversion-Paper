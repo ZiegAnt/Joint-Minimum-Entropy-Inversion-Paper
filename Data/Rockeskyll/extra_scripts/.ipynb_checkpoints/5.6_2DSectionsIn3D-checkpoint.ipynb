{
 "cells": [
  {
   "cell_type": "code",
   "execution_count": 1,
   "id": "63b2bae6-9119-49cb-a16e-4a9a23745ff9",
   "metadata": {},
   "outputs": [],
   "source": [
    "# %% IMPORTS\n",
    "import numpy             as np\n",
    "import matplotlib.pyplot as plt\n",
    "import pandas            as pd\n",
    "import pygimli           as pg\n",
    "import pygimli.meshtools as mt\n",
    "import cmasher           as cmr\n",
    "import pyvista           as pyv\n",
    "import functools\n",
    "import sys\n",
    "\n",
    "from mpl_toolkits               import mplot3d\n",
    "from mpl_toolkits.mplot3d       import Axes3D\n",
    "from pygimli.viewer             import pv\n",
    "from PlotFunctions_Ch5          import *"
   ]
  },
  {
   "cell_type": "code",
   "execution_count": 2,
   "id": "0743928d-3c39-4b2b-aa2f-61225812ae0e",
   "metadata": {},
   "outputs": [],
   "source": [
    "# %% Filenames\n",
    "fig_dir = 'C:/Users/azieg/Desktop/GIT_repositories/APG-MSc-Project-Ziegon/Figures/Ch-5/'\n",
    "fn_dir  = 'C:/Users/azieg/Desktop/GIT_repositories/APG-MSc-Project-Ziegon/Data/Rockeskyll/'\n",
    "\n",
    "fn_magnetic = 'Magnetic_data_corrected.csv'\n",
    "\n",
    "fn_all = 'ert_data_rockes_all'\n",
    "geo1 ='Geo/2023_ERTL1_Locations.csv'\n",
    "geo2 ='Geo/2023_ERTL2_Locations.csv'\n",
    "geo3 ='Geo/2023_ERTL3_Locations.csv'\n",
    "geo4 ='Geo/2023_ERTL4_Locations.csv'\n",
    "\n",
    "# Results Conventional\n",
    "fn_res2d1 = 'Res_Conventional/res_2d1.npy'\n",
    "fn_res2d2 = 'Res_Conventional/res_2d2.npy'\n",
    "fn_res2d3 = 'Res_Conventional/res_2d3.npy'\n",
    "fn_res2d4 = 'Res_Conventional/res_2d4.npy'\n",
    "fn_res_con = 'Res_Conventional/res_con.npy'\n",
    "fn_sus_con = 'Res_Conventional/sus_con.npy'\n",
    "fn_misfit_2d = 'Res_Conventional/misfit_2d.npy'\n",
    "fn_misfit_mag_con = 'Res_Conventional/misfit_mag_con.npy'\n",
    "fn_misfit_ert_con = 'Res_Conventional/misfit_ert_con.npy'\n",
    "\n",
    "# Results ME1\n",
    "fn_sus_me1 = 'Res_ME1/sus_me.npy'\n",
    "fn_res_me1 = 'Res_ME1/res_me.npy'\n",
    "fn_misfit_mag_me1 = 'Res_ME1/misfit_mag_me.npy'\n",
    "fn_misfit_ert_me1 = 'Res_ME1/misfit_ert_me.npy'\n",
    "\n",
    "# Results ME2\n",
    "fn_sus_me2 = 'Res_ME2/sus_me.npy'\n",
    "fn_res_me2 = 'Res_ME2/res_me.npy'\n",
    "fn_misfit_mag_me2 = 'Res_ME2/misfit_mag_me.npy'\n",
    "fn_misfit_ert_me2 = 'Res_ME2/misfit_ert_me.npy'\n",
    "\n",
    "# Results JME1\n",
    "JME1 = 'JME1_1'\n",
    "fn_sus_jme1 = 'Res_'+JME1+'/sus_jme.npy'\n",
    "fn_res_jme1 = 'Res_'+JME1+'/res_jme.npy'\n",
    "fn_misfit_mag_jme1 = 'Res_'+JME1+'/misfit_mag_jme.npy'\n",
    "fn_misfit_ert_jme1 = 'Res_'+JME1+'/misfit_ert_jme.npy'\n",
    "\n",
    "# Results JME2\n",
    "JME1 = 'JME2_1'\n",
    "fn_sus_jme2 = 'Res_'+JME1+'/sus_jme.npy'\n",
    "fn_res_jme2 = 'Res_'+JME1+'/res_jme.npy'\n",
    "fn_misfit_mag_jme2 = 'Res_'+JME1+'/misfit_mag_jme.npy'\n",
    "fn_misfit_ert_jme2 = 'Res_'+JME1+'/misfit_ert_jme.npy'\n",
    "\n",
    "# Plotting\n",
    "c_ert = 'gnuplot'\n",
    "c_mag = cmr.tropical\n",
    "\n",
    "lim_ert = [20,200]\n",
    "lim_mag =[0,0.15]"
   ]
  },
  {
   "cell_type": "markdown",
   "id": "83229eac-06ef-4bbe-aaec-dec3ad0191c5",
   "metadata": {},
   "source": [
    "## Load Geometries and Meshes"
   ]
  },
  {
   "cell_type": "code",
   "execution_count": 3,
   "id": "953c072b-d39f-4789-aef0-f38e33786f19",
   "metadata": {},
   "outputs": [],
   "source": [
    "df = pd.read_csv(fn_dir+fn_magnetic, delimiter=',', decimal='.')\n",
    "pnts = np.array([[df['X'][i], df['Y'][i], df['Z'][i]] for i in range(len(df))])\n",
    "\n",
    "df1 = pd.read_csv(fn_dir+geo1, delimiter=',', decimal='.')\n",
    "p1 = np.array([[df1['X'][i], df1['Y'][i], df1['Z'][i]] for i in range(len(df1))])\n",
    "\n",
    "df2 = pd.read_csv(fn_dir+geo2, delimiter=',', decimal='.')\n",
    "p2 = np.array([[df2['X'][i], df2['Y'][i], df2['Z'][i]] for i in range(len(df2))])\n",
    "\n",
    "df3 = pd.read_csv(fn_dir+geo3, delimiter=',', decimal='.')\n",
    "p3 = np.array([[df3['X'][i], df3['Y'][i], df3['Z'][i]] for i in range(len(df3))])\n",
    "p3 = p3[:-1,:] # This array has one electrode too much :(\n",
    "\n",
    "df4 = pd.read_csv(fn_dir+geo4, delimiter=',', decimal='.')\n",
    "p4 = np.array([[df4['X'][i], df4['Y'][i], df4['Z'][i]] for i in range(len(df4))])\n",
    "\n",
    "mesh = pg.load(fn_dir+'invmesh.bms')\n",
    "m2d1 = pg.load(fn_dir+'mesh_2d1.bms')\n",
    "m2d2 = pg.load(fn_dir+'mesh_2d2.bms')\n",
    "m2d3 = pg.load(fn_dir+'mesh_2d3.bms')\n",
    "m2d4 = pg.load(fn_dir+'mesh_2d4.bms')\n",
    "\n",
    "#Coverage \n",
    "cov1 = np.load(fn_dir+'Res_Conventional/cov1.npy')\n",
    "cov2 = np.load(fn_dir+'Res_Conventional/cov2.npy')\n",
    "cov3 = np.load(fn_dir+'Res_Conventional/cov3.npy')\n",
    "cov4 = np.load(fn_dir+'Res_Conventional/cov4.npy')"
   ]
  },
  {
   "cell_type": "markdown",
   "id": "040552cb-2dfd-4666-845c-de515d5c172c",
   "metadata": {},
   "source": [
    "## Load Results"
   ]
  },
  {
   "cell_type": "code",
   "execution_count": 4,
   "id": "4044c178-3690-4a86-be1b-8d1b0b6d0796",
   "metadata": {},
   "outputs": [],
   "source": [
    "res2d1 = np.load(fn_dir+fn_res2d1)\n",
    "res2d2 = np.load(fn_dir+fn_res2d2)\n",
    "res2d3 = np.load(fn_dir+fn_res2d3)\n",
    "res2d4 = np.load(fn_dir+fn_res2d4)\n",
    "\n",
    "res_con = np.load(fn_dir+fn_res_con)\n",
    "sus_con = np.load(fn_dir+fn_sus_con)\n",
    "\n",
    "res_me1 = np.load(fn_dir+fn_res_me1)\n",
    "sus_me1 = np.load(fn_dir+fn_sus_me1)\n",
    "\n",
    "res_me2 = np.load(fn_dir+fn_res_me2)\n",
    "sus_me2 = np.load(fn_dir+fn_sus_me2)\n",
    "\n",
    "res_jme1 = np.load(fn_dir+fn_res_jme1)\n",
    "sus_jme1 = np.load(fn_dir+fn_sus_jme1)\n",
    "\n",
    "res_jme2 = np.load(fn_dir+fn_res_jme2)\n",
    "sus_jme2 = np.load(fn_dir+fn_sus_jme2)"
   ]
  },
  {
   "cell_type": "markdown",
   "id": "9e842f87-84d9-4004-aea2-546a2fbaf627",
   "metadata": {},
   "source": [
    "## Load Misfit"
   ]
  },
  {
   "cell_type": "code",
   "execution_count": 5,
   "id": "2e4cbc11-3890-45ec-b3fa-3e93d6f5277d",
   "metadata": {},
   "outputs": [],
   "source": [
    "misfit_2d      = np.load(fn_dir+fn_misfit_2d)\n",
    "misfit_mag_con = np.load(fn_dir+fn_misfit_mag_con)\n",
    "misfit_ert_con = np.load(fn_dir+fn_misfit_ert_con)\n",
    "\n",
    "misfit_mag_me1 = np.load(fn_dir+fn_misfit_mag_me1)\n",
    "misfit_ert_me1 = np.load(fn_dir+fn_misfit_ert_me1)\n",
    "\n",
    "misfit_mag_me2 = np.load(fn_dir+fn_misfit_mag_me2)\n",
    "misfit_ert_me2 = np.load(fn_dir+fn_misfit_ert_me2)\n",
    "\n",
    "misfit_mag_jme1 = np.load(fn_dir+fn_misfit_mag_jme1)\n",
    "misfit_ert_jme1 = np.load(fn_dir+fn_misfit_ert_jme1)\n",
    "\n",
    "misfit_mag_jme2 = np.load(fn_dir+fn_misfit_mag_jme2)\n",
    "misfit_ert_jme2 = np.load(fn_dir+fn_misfit_ert_jme2)"
   ]
  },
  {
   "cell_type": "markdown",
   "id": "f2272523-043a-4bac-b7ff-be676c366e2e",
   "metadata": {},
   "source": [
    "## Interpolate 2D Sections !!!Change to nearest instead of linear!!!"
   ]
  },
  {
   "cell_type": "markdown",
   "id": "3e9da2f7-a381-4fde-ae17-78f04acd057a",
   "metadata": {
    "tags": []
   },
   "source": [
    "### Create interpolation indices for nearest neighbour method"
   ]
  },
  {
   "cell_type": "code",
   "execution_count": 6,
   "id": "ebff5810-e6ce-4fff-8dfd-39a1ae6fe567",
   "metadata": {},
   "outputs": [],
   "source": [
    "p_list = [p1,p2,p3,p4]\n",
    "m_list = [m2d1,m2d2,m2d3,m2d4]\n",
    "\n",
    "[m3d1,m3d2,m3d3,m3d4] =  Move2DSectionTo3D(m_list, p_list)"
   ]
  },
  {
   "cell_type": "code",
   "execution_count": 9,
   "id": "3a3ccb4e-932d-4ed9-a411-8a5beb5398e9",
   "metadata": {
    "tags": []
   },
   "outputs": [
    {
     "data": {
      "text/plain": [
       "RVector3: (2549093.183206989, 5569382.172745183, 445.61441988908194)"
      ]
     },
     "execution_count": 9,
     "metadata": {},
     "output_type": "execute_result"
    }
   ],
   "source": [
    "res_2d = [res2d1, res2d2, res2d3, res2d4]\n",
    "m3d = [m3d1,m3d2,m3d3,m3d4]\n",
    "\n",
    "for i in [0,1,2,3]:\n",
    "    m3d[i]['res2D']=res_2d[i]\n",
    "    m3d[i].exportVTK(f'2DSection{i}')"
   ]
  },
  {
   "cell_type": "code",
   "execution_count": null,
   "id": "5446f12a-6d4c-4feb-9bd0-04a61c7dea93",
   "metadata": {},
   "outputs": [],
   "source": [
    "%matplotlib widget\n",
    "res = res_jme1\n",
    "sus = sus_jme1\n",
    "\n",
    "mesh['sus'] = sus\n",
    "mesh['res'] = res\n",
    "\n",
    "res_lim= res.copy()\n",
    "\n",
    "for i, r in enumerate(res_lim):\n",
    "    if r<10:\n",
    "        res_lim[i] = 10\n",
    "    elif r>500:\n",
    "        res_lim[i] = 500\n",
    "\n",
    "mesh['res_lim'] = res_lim"
   ]
  },
  {
   "cell_type": "code",
   "execution_count": null,
   "id": "cade8da2-5727-47e7-8f05-d91977b888d4",
   "metadata": {
    "tags": []
   },
   "outputs": [],
   "source": [
    "pl, _ = pg.show(mesh, style=\"surface\", cMap=c_mag, hold=True, notebook=False, alpha=0.3)\n",
    "pv.drawMesh(pl, mesh, label=\"res_lim\", style=\"surface\", cMap=c_ert, alpha=1,\n",
    "            filter={\"threshold\": dict(value=150, scalars='res_lim')})\n",
    "pv.drawMesh(pl, mesh, label=\"sus\", style=\"surface\", cMap=c_mag, alpha=.8,\n",
    "            filter={\"threshold\": dict(value=0.12, scalars=\"sus\")})\n",
    "\n",
    "# AZdrawSlice_along_line(pl, mesh, cmap=c_mag, pnts=p1, data=mesh[\"sus\"], label=\"sus\")\n",
    "AZdrawSlice_along_line(pl, mesh, cmap=c_mag, pnts=p2, data=mesh[\"sus\"], label=\"sus\")\n",
    "# AZdrawSlice_along_line(pl, mesh, cmap=c_mag, pnts=p4, data=mesh[\"sus\"], label=\"sus\")\n",
    "\n",
    "pv.drawSensors(pl, p1, diam=.5, color='darkolivegreen')\n",
    "pv.drawSensors(pl, p2, diam=.5, color='limegreen')\n",
    "pv.drawSensors(pl, p3, diam=.5, color='springgreen')\n",
    "pv.drawSensors(pl, p4, diam=.5, color='aquamarine')\n",
    "pv.drawSensors(pl, pnts, diam=.5, color='blue')\n",
    "\n",
    "pl.show()"
   ]
  },
  {
   "cell_type": "code",
   "execution_count": null,
   "id": "4dc25b56-e626-46c6-ba1d-6293e8e2dabc",
   "metadata": {},
   "outputs": [
    {
     "data": {
      "text/plain": [
       "5569391.192"
      ]
     },
     "execution_count": 28,
     "metadata": {},
     "output_type": "execute_result"
    }
   ],
   "source": [
    "pnts[0][1]\n",
    "\n"
   ]
  },
  {
   "cell_type": "code",
   "execution_count": null,
   "id": "9b80a965-47bc-4cf6-92f3-0951636e5984",
   "metadata": {},
   "outputs": [],
   "source": []
  }
 ],
 "metadata": {
  "kernelspec": {
   "display_name": "Python 3 (ipykernel)",
   "language": "python",
   "name": "python3"
  },
  "language_info": {
   "codemirror_mode": {
    "name": "ipython",
    "version": 3
   },
   "file_extension": ".py",
   "mimetype": "text/x-python",
   "name": "python",
   "nbconvert_exporter": "python",
   "pygments_lexer": "ipython3",
   "version": "3.9.16"
  }
 },
 "nbformat": 4,
 "nbformat_minor": 5
}
