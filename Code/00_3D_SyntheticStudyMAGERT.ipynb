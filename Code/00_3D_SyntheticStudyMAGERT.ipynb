{
 "cells": [
  {
   "cell_type": "code",
   "execution_count": 1,
   "id": "44f7ae4b-abc3-40f2-944b-98c80cba17e9",
   "metadata": {},
   "outputs": [
    {
     "name": "stdout",
     "output_type": "stream",
     "text": [
      "No module named 'panel'.\n",
      "You need to install this optional dependency to use interactive 3D visualizations within Jupyter notebooks.\n"
     ]
    }
   ],
   "source": [
    "# %% IMPORTS\n",
    "import numpy             as np\n",
    "import matplotlib.pyplot as plt\n",
    "import pandas            as pd\n",
    "import pygimli           as pg\n",
    "import pygimli.meshtools as mt\n",
    "import cmasher           as cmr\n",
    "import functools\n",
    "import warnings\n",
    "\n",
    "from pygimli.viewer             import pv\n",
    "from pygimli.physics            import ert\n",
    "from scipy.interpolate          import griddata\n",
    "from AZ_pygimli_3DTopo          import *\n",
    "from PlotFunctions_Ch5          import *\n",
    "from datetime                   import datetime\n",
    "from JointEntropyClass          import JointEntropyInversion as JEI\n",
    "\n",
    "warnings.filterwarnings(\"ignore\")\n",
    "\n",
    "import pygimli as pg\n",
    "import pygimli.meshtools as mt\n",
    "from pygimli.physics import ert\n",
    "from pygimli.viewer import pv\n",
    "\n",
    "import numpy as np\n",
    "import matplotlib.pyplot as plt\n",
    "import pygimli as pg\n",
    "from pygimli.viewer import pv\n",
    "from pygimli.physics.gravimetry import GravityModelling\n",
    "\n",
    "%matplotlib qt\n",
    "\n",
    "path = 'C:/Users/anton.ziegon/Documents/GitHubRepos/Joint-Minimum-Entropy-Inversion-Paper/'\n",
    "\n",
    "fn_dir  = path+'Data/Synthetic3D/'"
   ]
  },
  {
   "cell_type": "markdown",
   "id": "bd6da13f-e0d9-4fb5-8281-9b7a64fb82b3",
   "metadata": {},
   "source": [
    "## Create ERT Data Container and Mesh"
   ]
  },
  {
   "cell_type": "code",
   "execution_count": 2,
   "id": "61cf79be-39df-4180-8048-46c7e74d19ed",
   "metadata": {},
   "outputs": [],
   "source": [
    "# Model dimensions\n",
    "dx = 1\n",
    "x = np.arange(0., 101, dx)\n",
    "y = np.arange(0., 101, dx)\n",
    "z = np.arange(-31, 0, dx)"
   ]
  },
  {
   "cell_type": "code",
   "execution_count": 3,
   "id": "d7033a0f-0bf5-4cdd-aa6c-925a57383762",
   "metadata": {},
   "outputs": [
    {
     "name": "stdout",
     "output_type": "stream",
     "text": [
      "Data: Sensors: 79 data: 1482, nonzero entries: ['a', 'b', 'k', 'm', 'n', 'valid']\n"
     ]
    }
   ],
   "source": [
    "######################################################\n",
    "# 2D SLM scheme\n",
    "# scheme = ert.createData(elecs=x[1:-1],schemeName='slm')\n",
    "elecs = x[11:-11]\n",
    "scheme = ert.createData(elecs=elecs,schemeName='slm')\n",
    "\n",
    "\n",
    "# Add electrode coordinates of 3 lines\n",
    "sensor_list = []\n",
    "#  Line 1\n",
    "for idx in np.arange(scheme.sensorCount()):\n",
    "    sensor_list.append([elecs[idx],50,-0.3]) \n",
    "sensor_list=np.array(sensor_list)\n",
    "scheme.setSensors(sensor_list)\n",
    "print(scheme)\n",
    "\n",
    "# Correct geometric factors for 3D\n",
    "scheme[\"k\"] = ert.geometricFactors(scheme, dim=3)\n",
    "\n",
    "\n",
    "\n",
    "##############################################################\n",
    "# For three intersectiing lines\n",
    "# # 2D SLM scheme\n",
    "# scheme = ert.createData(elecs=x[1:-1],schemeName='slm')\n",
    "# print(scheme)\n",
    "\n",
    "# # tripple the scheme to simulate 3 ERT lines in 3D\n",
    "# length = len(scheme['a'])\n",
    "# a_arr = np.zeros(length*3); b_arr = np.zeros(length*3); m_arr = np.zeros(length*3); n_arr = np.zeros(length*3); k_arr = np.zeros(length*3); valid_arr = np.zeros(length*3)\n",
    "\n",
    "# a_arr[:length] = scheme['a']; a_arr[length:length*2] = scheme['a']+scheme.sensorCount(); a_arr[length*2:length*3] = scheme['a']+2*scheme.sensorCount();\n",
    "# b_arr[:length] = scheme['b']; b_arr[length:length*2] = scheme['b']+scheme.sensorCount(); b_arr[length*2:length*3] = scheme['b']+2*scheme.sensorCount();\n",
    "# m_arr[:length] = scheme['m'];m_arr[length:length*2] = scheme['m']+scheme.sensorCount(); m_arr[length*2:length*3] = scheme['m']+2*scheme.sensorCount();\n",
    "# n_arr[:length] = scheme['n']; n_arr[length:length*2] = scheme['n']+scheme.sensorCount(); n_arr[length*2:length*3] = scheme['n']+2*scheme.sensorCount();\n",
    "# n_arr[:length] = scheme['k']; k_arr[length:length*2] = scheme['k']; k_arr[length*2:length*3] = scheme['k'];\n",
    "# valid_arr[:length] = scheme['valid']; valid_arr[length:length*2] = scheme['valid']; valid_arr[length*2:length*3] = scheme['valid'];\n",
    "# scheme['a']=a_arr;scheme['b']=b_arr;scheme['m']=m_arr;scheme['n']=n_arr;scheme['k']=k_arr;scheme['valid']=valid_arr;\n",
    "# print(scheme)\n",
    "\n",
    "# # Add electrode coordinates of 3 lines\n",
    "# sensor_list = []\n",
    "# #  Line 1\n",
    "# for idx in np.arange(scheme.sensorCount()):\n",
    "#     sensor_list.append([x[1:-1][idx],20,0]) \n",
    "# #  Line 2\n",
    "# for idx in np.arange(scheme.sensorCount()):\n",
    "#     sensor_list.append([x[1:-1][idx],30,0]) \n",
    "# #  Line 3\n",
    "# for idx in np.arange(scheme.sensorCount()):\n",
    "#     sensor_list.append([25,y[1:-1][idx],0]) \n",
    "# sensor_list=np.array(sensor_list)\n",
    "# scheme.setSensors(sensor_list)\n",
    "# assert scheme.sensorCount() == 3*49\n",
    "# print(scheme)\n",
    "\n",
    "# # Correct geometric factors for 3D\n",
    "# scheme[\"k\"] = ert.geometricFactors(scheme, dim=3)"
   ]
  },
  {
   "cell_type": "code",
   "execution_count": 4,
   "id": "8494c998-9e53-4943-a381-1b13e44ebbde",
   "metadata": {},
   "outputs": [
    {
     "data": {
      "text/plain": [
       "1"
      ]
     },
     "execution_count": 4,
     "metadata": {},
     "output_type": "execute_result"
    }
   ],
   "source": [
    "##############################################\n",
    "# Create Inversion mesh\n",
    "plc = mt.createCube(size=[x.max(), y.max(), -z.min()],pos=[x.max()*0.5, y.max()*0.5, z.min()*0.5], boundaryMarker=1)\n",
    "for s in scheme.sensors():\n",
    "    plc.createNode(s)\n",
    "    plc.createNode(s + [0, 0, -0.2])\n",
    "mesh_inv = mt.createMesh(plc, area=10)\n",
    "mesh_inv[\"CM\"]=np.array(mesh_inv.cellMarkers())\n",
    "mesh_inv['CID']=np.array([c.id() for c in mesh_inv.cells()])\n",
    "\n",
    "\n",
    "####################################################\n",
    "# Create FWD Polygon\n",
    "diatreme = mt.createCube(size=[11, 11, 20], pos=[x.max()*0.5, y.max()*0.5, z.min()+10], marker=2)\n",
    "plc += diatreme\n",
    "\n",
    "\n",
    "####################################################\n",
    "# Create FWD mesh\n",
    "mesh = mt.createMesh(plc, area=10)\n",
    "mesh[\"CM\"]=np.array(mesh.cellMarkers())\n",
    "mesh['CID']=np.array([c.id() for c in mesh.cells()])\n",
    "sus = [0.1 if c==2 else 0 for c in mesh[\"CM\"]]\n",
    "res = [1000 if c==2 else 50 for c in mesh[\"CM\"]]\n",
    "mesh['sus'] = np.array(sus) #susceptibility contrast\n",
    "mesh['res'] = np.array(res) #resistivity\n",
    "\n",
    "showModels=0\n",
    "if showModels==True:\n",
    "    pg.show(mesh_inv, showMesh=True,alpha=.30)\n",
    "    pg.show(plc, showMesh=True,alpha=.30)\n",
    "    pg.show(mesh, showMesh=True,alpha=.30)\n",
    "\n",
    "mesh.save(fn_dir+'mesh-fwd')\n",
    "mesh_inv.save(fn_dir+'mesh-inv')"
   ]
  },
  {
   "cell_type": "code",
   "execution_count": null,
   "id": "748ff3a5-bfbf-4317-91ba-612ce46430c0",
   "metadata": {},
   "outputs": [],
   "source": [
    "ert_data = ert.simulate(mesh, res=mesh['res'], scheme=scheme, verbose=True, seed=420,noiseLevel=0,absNoise=0)\n",
    "ert_data['rhoa']\n",
    "\n",
    "ert.showData(ert_data)"
   ]
  },
  {
   "cell_type": "markdown",
   "id": "5528bd5d-63a9-4747-80c0-aeca57eeb511",
   "metadata": {},
   "source": [
    "## Magnetics Data Generation"
   ]
  },
  {
   "cell_type": "code",
   "execution_count": 47,
   "id": "83af91c9-db91-4707-82a3-78273d0dd019",
   "metadata": {},
   "outputs": [
    {
     "data": {
      "application/vnd.jupyter.widget-view+json": {
       "model_id": "8aa757a752054b9a835c0b35f8784888",
       "version_major": 2,
       "version_minor": 0
      },
      "text/plain": [
       "   0%|          |0/576 [00:00 < ?]"
      ]
     },
     "metadata": {},
     "output_type": "display_data"
    }
   ],
   "source": [
    "F, I, D = 50000, 75, 25  # total field in nT\n",
    "H = F * np.cos(np.deg2rad(I))\n",
    "X = H * np.cos(np.deg2rad(D))\n",
    "Y = H * np.sin(np.deg2rad(D))\n",
    "Z = F * np.sin(np.deg2rad(I))\n",
    "igrf = [D, I, H, X, Y, Z, F]\n",
    "\n",
    "py, px = np.meshgrid(x[2:-2:2], y[2:-2:2])\n",
    "px = px.ravel()\n",
    "py = py.ravel()\n",
    "points = np.column_stack((px, py, np.ones_like(px)*1))\n",
    "\n",
    "# The forward operator\n",
    "cmp = [\"TFA\"]  # [\"Bx\", \"By\", \"Bz\"]\n",
    "fop = MagneticsModelling(mesh=mesh, points=points, cmp=cmp, igrf=igrf)\n",
    "data = fop.response(mesh[\"sus\"])\n"
   ]
  },
  {
   "cell_type": "code",
   "execution_count": 48,
   "id": "bca66aa8-5b42-4f6b-bd25-390d6a940280",
   "metadata": {},
   "outputs": [
    {
     "data": {
      "text/plain": [
       "Text(0.5, 1.0, 'TFA\\nnT')"
      ]
     },
     "execution_count": 48,
     "metadata": {},
     "output_type": "execute_result"
    }
   ],
   "source": [
    "absError = np.abs(data) * 0.02 + 1\n",
    "data += np.random.randn(len(data)) * absError\n",
    "\n",
    "# Show data\n",
    "fig, ax = plt.subplots(ncols=1, figsize=(5, 5))\n",
    "ax.set_title('Simulated Data')\n",
    "mm = np.max(np.abs(data))\n",
    "im0 = ax.scatter(points[:,0], points[:,1], c=data, marker='8', cmap=\"PuOr\", vmin=-mm, vmax=mm)\n",
    "cb1 = fig.colorbar(im0, ax=ax, orientation='vertical')\n",
    "cb1.ax.set_title('TFA\\nnT')"
   ]
  },
  {
   "cell_type": "code",
   "execution_count": 49,
   "id": "fbb9c032-01b8-4f09-af52-ff1f0d4ff481",
   "metadata": {},
   "outputs": [],
   "source": [
    "np.save(fn_dir+'mag_data', data)\n",
    "np.save(fn_dir+'mag_sensors', points)"
   ]
  },
  {
   "cell_type": "markdown",
   "id": "661be4ad-11fe-45fe-abbc-981d789baf1b",
   "metadata": {},
   "source": [
    "## ERT"
   ]
  },
  {
   "cell_type": "code",
   "execution_count": 20,
   "id": "1f4a66e8-49f4-4995-a5ce-c66f5198a06d",
   "metadata": {},
   "outputs": [],
   "source": [
    "rhomap = [[1,40], [2,400]]\n",
    "ert_data = ert.simulate(mesh, res=mesh['res'], scheme=scheme, debug=True, seed=420)\n",
    "ert_data['rhoa']\n"
   ]
  },
  {
   "cell_type": "code",
   "execution_count": 21,
   "id": "029cd9e8-8b0b-4db5-ad95-3533dcc31fe9",
   "metadata": {},
   "outputs": [
    {
     "data": {
      "text/plain": [
       "2 [425.66643959895526, 92.84943739173997]"
      ]
     },
     "execution_count": 21,
     "metadata": {},
     "output_type": "execute_result"
    }
   ],
   "source": []
  },
  {
   "cell_type": "code",
   "execution_count": 16,
   "id": "f100cbba-6d03-4471-b5b1-c95a8db4607d",
   "metadata": {},
   "outputs": [
    {
     "data": {
      "text/plain": [
       "Data: Sensors: 24 data: 121, nonzero entries: ['a', 'b', 'k', 'm', 'n', 'valid']"
      ]
     },
     "execution_count": 16,
     "metadata": {},
     "output_type": "execute_result"
    }
   ],
   "source": [
    "scheme\n"
   ]
  },
  {
   "cell_type": "code",
   "execution_count": null,
   "id": "310c1839-bcb7-4cc6-98f1-3a2c4866295e",
   "metadata": {},
   "outputs": [],
   "source": []
  }
 ],
 "metadata": {
  "kernelspec": {
   "display_name": "Python 3 (ipykernel)",
   "language": "python",
   "name": "python3"
  },
  "language_info": {
   "codemirror_mode": {
    "name": "ipython",
    "version": 3
   },
   "file_extension": ".py",
   "mimetype": "text/x-python",
   "name": "python",
   "nbconvert_exporter": "python",
   "pygments_lexer": "ipython3",
   "version": "3.9.18"
  }
 },
 "nbformat": 4,
 "nbformat_minor": 5
}
